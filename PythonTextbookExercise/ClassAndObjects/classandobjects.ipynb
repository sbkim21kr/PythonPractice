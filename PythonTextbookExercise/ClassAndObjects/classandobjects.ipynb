{
 "cells": [
  {
   "cell_type": "code",
   "execution_count": 1,
   "id": "b34ed4f7",
   "metadata": {},
   "outputs": [
    {
     "name": "stdout",
     "output_type": "stream",
     "text": [
      "hi, my name is Mike and I am 25 years old.\n",
      "hi, my name is Luke and I am 30 years old.\n",
      "the age of Mike: 25\n",
      "the age of Luke: 30\n",
      "Mike has become 26 years old.\n"
     ]
    }
   ],
   "source": [
    "class Person:\n",
    "    def __init__(self,name,age):\n",
    "        # instance variable\n",
    "        self.name=name\n",
    "        self.age=age\n",
    "    def introduce(self):\n",
    "        return f\"hi, my name is {self.name} and I am {self.age} years old.\"\n",
    "    def have_birthday(self):\n",
    "        self.age += 1\n",
    "        return f\"{self.name} has become {self.age} years old.\"\n",
    "person1=Person(\"Mike\", 25)\n",
    "person2=Person(\"Luke\", 30)\n",
    "\n",
    "print(person1.introduce())\n",
    "print(person2.introduce())\n",
    "\n",
    "print(f\"the age of {person1.name}: {person1.age}\")\n",
    "print(f\"the age of {person2.name}: {person2.age}\")\n",
    "\n",
    "print(person1.have_birthday())\n",
    "\n",
    "# Yes—self does mean the instance. More precisely:\n",
    "\n",
    "#     It refers to the specific object that is being created or manipulated.\n",
    "\n",
    "#     It's how the object accesses its own data and methods.\n",
    "\n",
    "\n",
    "# You use __init__ when:\n",
    "\n",
    "#     You want to pass data during object creation.\n",
    "\n",
    "#     You need to set up instance variables.\n",
    "\n",
    "#     You want to run setup code automatically when the object is created.\n",
    "\n",
    "# Without __init__, your class just uses the default constructor, which takes no arguments and does no setup."
   ]
  },
  {
   "cell_type": "code",
   "execution_count": null,
   "id": "98c96503",
   "metadata": {},
   "outputs": [
    {
     "name": "stdout",
     "output_type": "stream",
     "text": [
      "the account 123-456-789 has been created, and the initial balance is: 0 won.\n",
      "the account 987-654-321 has been created, and the initial balance is: 50000 won.\n",
      "20000 won has been deposited, and the current balance is: 20000won.\n",
      "20000 won has been deposited, and the current balance is: 70000won.\n",
      "20000 won has been deposited, and the current balance is: 40000won.\n",
      "20000 won has been deposited, and the current balance is: 90000won.\n",
      "20000 won has been deposited, and the current balance is: 60000won.\n",
      "20000 won has been deposited, and the current balance is: 110000won.\n",
      "20000 won has been deposited, and the current balance is: 80000won.\n",
      "20000 won has been deposited, and the current balance is: 130000won.\n",
      "20000 won has been deposited, and the current balance is: 100000won.\n",
      "20000 won has been deposited, and the current balance is: 150000won.\n",
      "20000 won has been deposited, and the current balance is: 120000won.\n",
      "20000 won has been deposited, and the current balance is: 170000won.\n",
      "the balance of the account 123-456-789: 120000won\n",
      "the balance of the account 987-654-321: 170000won\n"
     ]
    },
    {
     "data": {
      "text/plain": [
       "<bound method BankAccount.get_transaction_history of <__main__.BankAccount object at 0x7ad8ec2b25d0>>"
      ]
     },
     "execution_count": 5,
     "metadata": {},
     "output_type": "execute_result"
    }
   ],
   "source": [
    "class BankAccount:\n",
    "    def __init__(self, account_number, initial_balance=0):\n",
    "        self.account_number = account_number\n",
    "        self.balance=initial_balance\n",
    "        self.transaction_history=[]\n",
    "        print(f\"the account {account_number} has been created, and the initial balance is: {initial_balance} won.\")\n",
    "    \n",
    "    def deposit(self,amount):\n",
    "        if amount>0:\n",
    "            self.balance += amount\n",
    "            self.transaction_history.append(f\"deposited {amount}won\")\n",
    "            return f\"{amount} won has been deposited, and the current balance is: {self.balance}won.\"\n",
    "        \n",
    "    def withdraw(self, amount):\n",
    "        if amount <= 0:\n",
    "            return \"the amount has to be bigger than zero.\"\n",
    "        elif amount > self.balance:\n",
    "            return f\"you are short of balance. the current balance is  {self.balance}won\"\n",
    "        else:\n",
    "            self.balance -= amount\n",
    "            self.transaction_history.append(f\"withdrew {amount}won\")\n",
    "            return f\"{amount}won has been withdrawn. the current balance is {self.balance}won\"\n",
    "    def get_balance(self):\n",
    "        \"\"\"current balance\"\"\"\n",
    "        return f\"the balance of the account {self.account_number}: {self.balance}won\"\n",
    "    def get_transaction_history(self):\n",
    "        return self.transaction_history\n",
    "\n",
    "account1=BankAccount(\"123-456-789\")\n",
    "account2=BankAccount(\"987-654-321\", 50000)\n",
    "print(account1.deposit(20000))\n",
    "print(account2.deposit(20000))\n",
    "print(account1.deposit(20000))\n",
    "print(account2.deposit(20000))\n",
    "print(account1.deposit(20000))\n",
    "print(account2.deposit(20000))\n",
    "print(account1.deposit(20000))\n",
    "print(account2.deposit(20000))\n",
    "print(account1.deposit(20000))\n",
    "print(account2.deposit(20000))\n",
    "print(account1.deposit(20000))\n",
    "print(account2.deposit(20000))\n",
    "\n",
    "\n",
    "\n",
    "\n",
    "print(account1.get_balance())\n",
    "print(account2.get_balance())\n",
    "print(\"Account 1 History:\", account1.get_transaction_history())\n",
    "print(\"Account 2 History:\", account2.get_transaction_history())\n",
    "        \n",
    "    # You're using an f-string to build a message and then return it. This is useful when:\n",
    "\n",
    "    # You want to store the message in a variable.\n",
    "\n",
    "    # You want to return it from a function.\n",
    "\n",
    "    # You want to log it or send it somewhere else."
   ]
  }
 ],
 "metadata": {
  "kernelspec": {
   "display_name": "venv",
   "language": "python",
   "name": "python3"
  },
  "language_info": {
   "codemirror_mode": {
    "name": "ipython",
    "version": 3
   },
   "file_extension": ".py",
   "mimetype": "text/x-python",
   "name": "python",
   "nbconvert_exporter": "python",
   "pygments_lexer": "ipython3",
   "version": "3.12.3"
  }
 },
 "nbformat": 4,
 "nbformat_minor": 5
}
