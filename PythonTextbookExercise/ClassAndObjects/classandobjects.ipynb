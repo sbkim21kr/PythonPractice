{
 "cells": [
  {
   "cell_type": "code",
   "execution_count": null,
   "id": "b34ed4f7",
   "metadata": {},
   "outputs": [
    {
     "name": "stdout",
     "output_type": "stream",
     "text": [
      "hi, my name is Mike and I am 25 years old.\n",
      "hi, my name is Luke and I am 30 years old.\n",
      "the age of Mike: 25\n",
      "the age of Luke: 30\n",
      "Mike has become 26 years old.\n"
     ]
    }
   ],
   "source": [
    "class Person:\n",
    "    def __init__(self,name,age):\n",
    "        # instance variable\n",
    "        self.name=name\n",
    "        self.age=age\n",
    "    def introduce(self):\n",
    "        return f\"hi, my name is {self.name} and I am {self.age} years old.\"\n",
    "    def have_birthday(self):\n",
    "        self.age += 1\n",
    "        return f\"{self.name} has become {self.age} years old.\"\n",
    "person1=Person(\"Mike\", 25)\n",
    "person2=Person(\"Luke\", 30)\n",
    "\n",
    "print(person1.introduce())\n",
    "print(person2.introduce())\n",
    "\n",
    "print(f\"the age of {person1.name}: {person1.age}\")\n",
    "print(f\"the age of {person2.name}: {person2.age}\")\n",
    "\n",
    "print(person1.have_birthday())\n",
    "\n",
    "# Yes—self does mean the instance. More precisely:\n",
    "\n",
    "#     It refers to the specific object that is being created or manipulated.\n",
    "\n",
    "#     It's how the object accesses its own data and methods.\n",
    "\n",
    "\n",
    "# You use __init__ when:\n",
    "\n",
    "#     You want to pass data during object creation.\n",
    "\n",
    "#     You need to set up instance variables.\n",
    "\n",
    "#     You want to run setup code automatically when the object is created.\n",
    "\n",
    "# Without __init__, your class just uses the default constructor, which takes no arguments and does no setup."
   ]
  },
  {
   "cell_type": "code",
   "execution_count": null,
   "id": "98c96503",
   "metadata": {},
   "outputs": [],
   "source": [
    "class BankAccount:\n",
    "    def __init__(self, account_number, initial_balance=0):\n",
    "        self.account_number = account_number\n",
    "        self.balance=initial_balance\n",
    "        self.transaction_history=[]\n",
    "        print(f\"the account {account_number} has been created, and the initial balance is: {initial_balance} won.\")\n",
    "    \n",
    "    def deposit(self,amount):\n",
    "        if amount>0:\n",
    "            self.balance += amount\n",
    "            self.transaction_history.append(f\"deposited {amount}won\")\n",
    "            return f\"{amount} won has been deposited, and the current balance is: {self.balance}won.\"\n",
    "        \n",
    "    # You're using an f-string to build a message and then return it. This is useful when:\n",
    "\n",
    "    # You want to store the message in a variable.\n",
    "\n",
    "    # You want to return it from a function.\n",
    "\n",
    "    # You want to log it or send it somewhere else."
   ]
  }
 ],
 "metadata": {
  "kernelspec": {
   "display_name": "venv",
   "language": "python",
   "name": "python3"
  },
  "language_info": {
   "codemirror_mode": {
    "name": "ipython",
    "version": 3
   },
   "file_extension": ".py",
   "mimetype": "text/x-python",
   "name": "python",
   "nbconvert_exporter": "python",
   "pygments_lexer": "ipython3",
   "version": "3.12.3"
  }
 },
 "nbformat": 4,
 "nbformat_minor": 5
}
