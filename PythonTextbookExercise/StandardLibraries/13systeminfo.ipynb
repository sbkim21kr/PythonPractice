{
 "cells": [
  {
   "cell_type": "code",
   "execution_count": 1,
   "id": "36a127a3",
   "metadata": {},
   "outputs": [
    {
     "name": "stdout",
     "output_type": "stream",
     "text": [
      "Python 버전: 3.12.3 (main, Aug 14 2025, 17:47:21) [GCC 13.3.0]\n",
      "버전 정보 튜플: sys.version_info(major=3, minor=12, micro=3, releaselevel='final', serial=0)\n",
      "Python 3.8 이상 버전입니다.\n",
      "\n",
      "플랫폼: linux\n",
      "\n",
      "모듈 검색 경로 (sys.path):\n",
      "  1. /usr/lib/python312.zip\n",
      "  2. /usr/lib/python3.12\n",
      "  3. /usr/lib/python3.12/lib-dynload\n",
      "\n",
      "명령행 인자 (sys.argv): ['/home/sbkim21/Documents/PythonPractice/venv/lib/python3.12/site-packages/ipykernel_launcher.py', '--f=/run/user/1000/jupyter/runtime/kernel-v388b9f5f1046b563cceb228ce1b08ca587873a426.json']\n",
      "\n",
      "리스트 객체 크기: 104 바이트\n"
     ]
    }
   ],
   "source": [
    "import sys\n",
    "# sys\tAccess Python runtime info, arguments, paths, and I/O streams\n",
    "import os # 정리용으로 사용\n",
    "from datetime import datetime\n",
    "\n",
    "print(f\"Python 버전: {sys.version}\")\n",
    "print(f\"버전 정보 튜플: {sys.version_info}\")\n",
    "\n",
    "# 버전 비교 예시\n",
    "if sys.version_info >= (3, 8):\n",
    "    print(\"Python 3.8 이상 버전입니다.\")\n",
    "else:\n",
    "    print(\"Python 3.8 미만 버전입니다.\")\n",
    "\n",
    "print(f\"\\n플랫폼: {sys.platform}\") # 예: 'win32', 'linux', 'darwin'\n",
    "\n",
    "# 모듈 검색 경로 (일부만 출력)\n",
    "print(\"\\n모듈 검색 경로 (sys.path):\")\n",
    "for i, path in enumerate(sys.path[:3]): # 처음 3개 경로만 출력\n",
    "    print(f\"  {i+1}. {path}\")\n",
    "# sys.path is a list of directories Python searches for modules\n",
    "\n",
    "# Useful for debugging import errors or customizing module loading\n",
    "\n",
    "\n",
    "\n",
    "\n",
    "# 명령행 인자 (스크립트를 실행할 때만 의미 있음)\n",
    "# 예: python my_script.py arg1 arg2\n",
    "print(f\"\\n명령행 인자 (sys.argv): {sys.argv}\")\n",
    "# sys.argv holds arguments passed to the script\n",
    "\n",
    "# Example: python my_script.py arg1 arg2\n",
    "\n",
    "#     sys.argv[0] → script name\n",
    "\n",
    "#     sys.argv[1:] → actual arguments\n",
    "\n",
    "# Useful for CLI tools, automation scripts, or batch processing\n",
    "\n",
    "\n",
    "# 객체 크기 확인\n",
    "my_list = [1, 2, 3, 'a', 'b']\n",
    "print(f\"\\n리스트 객체 크기: {sys.getsizeof(my_list)} 바이트\") # 리스트 자체의 메모리 (포함된 요소 크기 제외)\n",
    "# sys.getsizeof() returns memory size of an object in bytes\n",
    "\n",
    "# Only includes the container size, not the full memory of nested elements\n",
    "\n",
    "# Useful for performance tuning and memory profiling\n",
    "\n",
    "\n",
    "\n",
    "\n",
    "# 표준 출력 대상 변경 예시 (간단히 개념만)\n",
    "# original_stdout = sys.stdout\n",
    "# with open(\"output.log\", \"w\") as f:\n",
    "#     sys.stdout = f\n",
    "#     print(\"이 내용은 파일에 기록됩니다.\")\n",
    "# sys.stdout = original_stdout # 표준 출력 복구\n",
    "# print(\"이 내용은 다시 콘솔에 출력됩니다.\")\n",
    "# os.remove(\"output.log\") # 로그 파일 삭제\n"
   ]
  }
 ],
 "metadata": {
  "kernelspec": {
   "display_name": "venv",
   "language": "python",
   "name": "python3"
  },
  "language_info": {
   "codemirror_mode": {
    "name": "ipython",
    "version": 3
   },
   "file_extension": ".py",
   "mimetype": "text/x-python",
   "name": "python",
   "nbconvert_exporter": "python",
   "pygments_lexer": "ipython3",
   "version": "3.12.3"
  }
 },
 "nbformat": 4,
 "nbformat_minor": 5
}
