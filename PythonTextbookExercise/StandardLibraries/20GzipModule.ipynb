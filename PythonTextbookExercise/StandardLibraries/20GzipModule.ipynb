{
 "cells": [
  {
   "cell_type": "code",
   "execution_count": 1,
   "id": "b9a040a3",
   "metadata": {},
   "outputs": [
    {
     "name": "stdout",
     "output_type": "stream",
     "text": [
      "원본 파일 'large_data.txt' 크기: 36000 바이트\n",
      "압축 파일 'large_data.txt.gz' 크기: 249 바이트\n",
      "압축률: 99.31%\n",
      "\n",
      "--- 'large_data.txt.gz' 압축 해제하여 읽기 ---\n",
      "해제된 텍스트 (첫 100자): Gzip 압축 테스트를 위한 대량의 텍스트 데이터입니다. Gzip 압축 테스트를 위한 대량의 텍스트 데이터입니다. Gzip 압축 테스트를 위한 대량의 텍스트 데이터입니다. Gzip...\n",
      "해제된 텍스트 길이: 16000 (원본 길이: 16000)\n",
      "\n",
      "테스트 파일 정리 완료.\n"
     ]
    }
   ],
   "source": [
    "import gzip\n",
    "import shutil\n",
    "import os\n",
    "\n",
    "# 테스트용 큰 텍스트 데이터 생성\n",
    "text_data = \"Gzip 압축 테스트를 위한 대량의 텍스트 데이터입니다. \" * 500\n",
    "large_file_name = 'large_data.txt'\n",
    "compressed_file_name = large_file_name + '.gz'\n",
    "\n",
    "try:\n",
    "    # 원본 파일 쓰기\n",
    "    with open(large_file_name, 'w', encoding='utf-8') as f:\n",
    "        f.write(text_data)\n",
    "    original_size = os.path.getsize(large_file_name)\n",
    "    print(f\"원본 파일 '{large_file_name}' 크기: {original_size} 바이트\")\n",
    "\n",
    "    # 1. gzip으로 압축하기\n",
    "    with open(large_file_name, 'rb') as f_in: # 파일을 바이너리 읽기 모드로 열기\n",
    "        # gzip.open을 'wb' 모드로 열어 압축 쓰기\n",
    "        with gzip.open(compressed_file_name, 'wb') as f_out:\n",
    "            shutil.copyfileobj(f_in, f_out) # 파일 내용을 압축하며 복사\n",
    "    compressed_size = os.path.getsize(compressed_file_name)\n",
    "    print(f\"압축 파일 '{compressed_file_name}' 크기: {compressed_size} 바이트\")\n",
    "    \n",
    "    # 압축률 계산\n",
    "    if original_size > 0:\n",
    "        compression_ratio = ((original_size - compressed_size) / original_size) * 100\n",
    "        print(f\"압축률: {compression_ratio:.2f}%\")\n",
    "\n",
    "    # 2. gzip 파일 읽기 (압축 해제하며)\n",
    "    print(f\"\\n--- '{compressed_file_name}' 압축 해제하여 읽기 ---\")\n",
    "    with gzip.open(compressed_file_name, 'rt', encoding='utf-8') as f:\n",
    "        decompressed_text = f.read()\n",
    "        print(f\"해제된 텍스트 (첫 100자): {decompressed_text[:100]}...\")\n",
    "        # 원본 데이터와 비교 (길이만 체크)\n",
    "        print(f\"해제된 텍스트 길이: {len(decompressed_text)} (원본 길이: {len(text_data)})\")\n",
    "\n",
    "finally:\n",
    "    # 테스트 파일 정리\n",
    "    if os.path.exists(large_file_name): os.remove(large_file_name)\n",
    "    if os.path.exists(compressed_file_name): os.remove(compressed_file_name)\n",
    "    print(\"\\n테스트 파일 정리 완료.\")\n"
   ]
  }
 ],
 "metadata": {
  "kernelspec": {
   "display_name": "venv",
   "language": "python",
   "name": "python3"
  },
  "language_info": {
   "codemirror_mode": {
    "name": "ipython",
    "version": 3
   },
   "file_extension": ".py",
   "mimetype": "text/x-python",
   "name": "python",
   "nbconvert_exporter": "python",
   "pygments_lexer": "ipython3",
   "version": "3.12.3"
  }
 },
 "nbformat": 4,
 "nbformat_minor": 5
}
