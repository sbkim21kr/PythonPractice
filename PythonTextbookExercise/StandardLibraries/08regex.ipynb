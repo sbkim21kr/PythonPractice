{
 "cells": [
  {
   "cell_type": "code",
   "execution_count": null,
   "id": "aad20152",
   "metadata": {},
   "outputs": [
    {
     "name": "stdout",
     "output_type": "stream",
     "text": [
      "찾은 전화번호: 010-1234-5678\n",
      "찾은 이메일: ['user@example.com']\n",
      "전화번호 마스킹: 연락처: XXX-XXXX-XXXX, 이메일: user@example.com, 다른 번호: 02-987-6543\n",
      "\n",
      "로그 분석:\n",
      "  날짜: 2024-03-15\n",
      "  시간: 14:30:25\n",
      "  레벨: INFO\n",
      "  메시지: 사용자 로그인 성공\n"
     ]
    }
   ],
   "source": [
    "import re\n",
    "# re stands for regular expressions — a mini language for describing patterns in text. It lets you search, match, extract, and validate strings based on complex rules.\n",
    "\n",
    "text = \"연락처: 010-1234-5678, 이메일: user@example.com, 다른 번호: 02-987-6543\"\n",
    "\n",
    "# 1. re.search(): 패턴과 일치하는 첫 번째 항목 찾기\n",
    "phone_pattern = r'\\d{3}-\\d{4}-\\d{4}' # \\d는 숫자, {n}은 n번 반복\n",
    "phone_match = re.search(phone_pattern, text)\n",
    "if phone_match:\n",
    "    # group()은 매치된 문자열 자체를 반환\n",
    "    print(f\"찾은 전화번호: {phone_match.group()}\") # 010-1234-5678\n",
    "\n",
    "# 2. re.findall(): 패턴과 일치하는 모든 항목 찾기\n",
    "email_pattern = r'\\b[A-Za-z0-9._%+-]+@[A-Za-z0-9.-]+\\.[A-Z|a-z]{2,}\\b'\n",
    "# \\b: 단어 경계, [A-Za-z0-9._%+-]+: @ 앞 부분, @, [A-Za-z0-9.-]+: @ 뒤 도메인, \\.[A-Z|a-z]{2,}: .com, .org 등 TLD\n",
    "all_emails = re.findall(email_pattern, text)\n",
    "print(f\"찾은 이메일: {all_emails}\") # ['user@example.com']\n",
    "\n",
    "# 3. re.sub(): 패턴 치환\n",
    "masked_text = re.sub(phone_pattern, \"XXX-XXXX-XXXX\", text)\n",
    "# It searches for phone numbers in a block of text and replaces them with a masked version like \"XXX-XXXX-XXXX\".\n",
    "print(f\"전화번호 마스킹: {masked_text}\")\n",
    "\n",
    "# 4. 그룹화 사용 (log 파싱 예시)\n",
    "log_entry = \"2024-03-15 14:30:25 [INFO] 사용자 로그인 성공\"\n",
    "# 패턴에서 날짜, 시간, 로그 레벨, 메시지를 그룹으로 캡처\n",
    "log_pattern = r'(\\d{4}-\\d{2}-\\d{2}) (\\d{2}:\\d{2}:\\d{2}) \\[(\\w+)\\] (.+)'\n",
    "log_match = re.match(log_pattern, log_entry) # 문자열 시작부터 매치 확인\n",
    "\n",
    "# | Part    | Meaning                                                    | Example                  |\n",
    "# | ------- | ---------------------------------------------------------- | ------------------------ |\n",
    "# | `\\[`    | literal `[` (escaped, because `[` is special in regex)     | `[`                      |\n",
    "# | `(\\w+)` | word characters (letters, digits, underscore), one or more | `INFO`, `ERROR`, `DEBUG` |\n",
    "# | `\\]`    | literal `]`                                                | `]`                      |\n",
    "\n",
    "# 5️⃣ (.+) — Capture the message\n",
    "\n",
    "# . → any character (except newlines)\n",
    "\n",
    "# + → one or more of the previous element\n",
    "\n",
    "# So (.+) means “one or more of any characters.”\n",
    "\n",
    "\n",
    "\n",
    "\n",
    "\n",
    "if log_match:\n",
    "    # groups()는 모든 캡처 그룹을 튜플로 반환\n",
    "    date_part, time_part, level, message = log_match.groups()\n",
    "    print(\"\\n로그 분석:\")\n",
    "    print(f\"  날짜: {date_part}\")\n",
    "    print(f\"  시간: {time_part}\")\n",
    "    print(f\"  레벨: {level}\")\n",
    "    print(f\"  메시지: {message}\")\n"
   ]
  }
 ],
 "metadata": {
  "kernelspec": {
   "display_name": "venv",
   "language": "python",
   "name": "python3"
  },
  "language_info": {
   "codemirror_mode": {
    "name": "ipython",
    "version": 3
   },
   "file_extension": ".py",
   "mimetype": "text/x-python",
   "name": "python",
   "nbconvert_exporter": "python",
   "pygments_lexer": "ipython3",
   "version": "3.12.3"
  }
 },
 "nbformat": 4,
 "nbformat_minor": 5
}
