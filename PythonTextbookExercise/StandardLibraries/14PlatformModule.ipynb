{
 "cells": [
  {
   "cell_type": "code",
   "execution_count": 1,
   "id": "de58ace6",
   "metadata": {},
   "outputs": [
    {
     "name": "stdout",
     "output_type": "stream",
     "text": [
      "=== 시스템 정보 ===\n",
      "시스템 종류: Linux\n",
      "호스트명: sbkim21\n",
      "커널/릴리스: 6.14.0-29-generic\n",
      "운영체제 버전: #29~24.04.1-Ubuntu SMP PREEMPT_DYNAMIC Thu Aug 14 16:52:50 UTC 2\n",
      "머신 하드웨어: x86_64\n",
      "프로세서 정보: x86_64\n",
      "\n",
      "=== Python 정보 ===\n",
      "Python 구현체: CPython\n",
      "Python 버전: 3.12.3\n",
      "Python 빌드 정보: ('main', 'Aug 14 2025 17:47:21')\n",
      "\n",
      "=== 상세 플랫폼 정보 ===\n",
      "전체 플랫폼 문자열: Linux-6.14.0-29-generic-x86_64-with-glibc2.39\n",
      "\n",
      "=== 아키텍처 정보 ===\n",
      "비트 수 및 링키지: ('64bit', 'ELF')\n"
     ]
    }
   ],
   "source": [
    "import platform\n",
    "\n",
    "print(\"=== 시스템 정보 ===\")\n",
    "print(f\"시스템 종류: {platform.system()}\")         # 예: 'Windows', 'Linux', 'Darwin' (macOS)\n",
    "print(f\"호스트명: {platform.node()}\")              # 컴퓨터 이름\n",
    "print(f\"커널/릴리스: {platform.release()}\")        # 예: '10', '5.15.0-88-generic'\n",
    "print(f\"운영체제 버전: {platform.version()}\")      # 상세 버전 정보\n",
    "print(f\"머신 하드웨어: {platform.machine()}\")       # 예: 'AMD64', 'x86_64'\n",
    "print(f\"프로세서 정보: {platform.processor()}\")     # CPU 모델명 등 (시스템마다 다름)\n",
    "\n",
    "print(\"\\n=== Python 정보 ===\")\n",
    "print(f\"Python 구현체: {platform.python_implementation()}\") # 예: 'CPython', 'Jython'\n",
    "print(f\"Python 버전: {platform.python_version()}\")      # 예: '3.9.7'\n",
    "print(f\"Python 빌드 정보: {platform.python_build()}\")  # 빌드 번호, 컴파일러 등\n",
    "\n",
    "print(\"\\n=== 상세 플랫폼 정보 ===\")\n",
    "print(f\"전체 플랫폼 문자열: {platform.platform()}\") # 종합적인 정보 문자열\n",
    "\n",
    "print(\"\\n=== 아키텍처 정보 ===\")\n",
    "arch_info = platform.architecture()\n",
    "print(f\"비트 수 및 링키지: {arch_info}\") # 예: ('64bit', 'WindowsPE') 또는 ('64bit', 'ELF')\n"
   ]
  }
 ],
 "metadata": {
  "kernelspec": {
   "display_name": "venv",
   "language": "python",
   "name": "python3"
  },
  "language_info": {
   "codemirror_mode": {
    "name": "ipython",
    "version": 3
   },
   "file_extension": ".py",
   "mimetype": "text/x-python",
   "name": "python",
   "nbconvert_exporter": "python",
   "pygments_lexer": "ipython3",
   "version": "3.12.3"
  }
 },
 "nbformat": 4,
 "nbformat_minor": 5
}
