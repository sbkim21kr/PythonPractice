{
 "cells": [
  {
   "cell_type": "code",
   "execution_count": 23,
   "id": "ffd6050d",
   "metadata": {},
   "outputs": [
    {
     "name": "stdout",
     "output_type": "stream",
     "text": [
      "0.0 <= N < 1.0 : 0.6394267984578837\n",
      "1.0 <= N <= 10.0 : 1.2250967970040025\n",
      "1 <= N <= 10 : 5\n",
      "0, 2, 4, 6, 8 중 선택 : 2\n",
      "\n",
      "색상 하나 선택: blue\n",
      "색상 3개 선택 (중복 가능): ['red', 'red', 'yellow']\n",
      "색상 3개 선택 (중복 없음): ['purple', 'red', 'green']\n",
      "\n",
      "원본 리스트: [1, 2, 3, 4, 5, 6, 7, 8, 9, 10]\n",
      "섞인 리스트: [5, 4, 3, 10, 6, 2, 8, 9, 1, 7]\n",
      "\n",
      "가중치 적용 선택 (10회): ['orange', 'orange', 'banana', 'banana', 'banana', 'orange', 'orange', 'apple', 'banana', 'banana']\n"
     ]
    }
   ],
   "source": [
    "import random\n",
    "import string # 문자열 관련 상수 제공 (영문 대소문자, 숫자, 특수문자 등)\n",
    "import os     # 파일 관련 작업 (정리용)\n",
    "\n",
    "# os.listdir()       # List files in a directory\n",
    "# os.remove()        # Delete a file\n",
    "# os.rename()        # Rename a file\n",
    "# os.mkdir()         # Create a new folder\n",
    "# os.path.exists()   # Check if a file or folder exists\n",
    "\n",
    "\n",
    "\n",
    "\n",
    "# 시드 설정 (동일한 난수 시퀀스를 생성하기 위해)\n",
    "random.seed(42)\n",
    "# In Python, random.seed() sets the starting point (or \"seed\") for the random number generator.\n",
    "# This makes your random results predictable and repeatable — which is super useful for debugging, testing, and reproducibility.\n",
    "# When you call random.seed(42), Python resets its internal random number generator to a known starting state.\n",
    "\n",
    "# From that point, every call to random.random(), random.randint(), etc. follows a deterministic algorithm.\n",
    "\n",
    "# So if you use random.seed(42) again later, it starts from the same state and gives you the same sequence — like rewinding a tape.\n",
    "\n",
    "# 실수 난수\n",
    "print(f\"0.0 <= N < 1.0 : {random.random()}\")           # 예: 0.6394...\n",
    "print(f\"1.0 <= N <= 10.0 : {random.uniform(1, 10)}\")   # 예: 7.564...\n",
    "\n",
    "# 정수 난수\n",
    "print(f\"1 <= N <= 10 : {random.randint(1, 10)}\")      # 예: 7\n",
    "print(f\"0, 2, 4, 6, 8 중 선택 : {random.randrange(0, 10, 2)}\") # 예: 6\n",
    "\n",
    "# 시퀀스에서 선택\n",
    "colors = ['red', 'blue', 'green', 'yellow', 'purple']\n",
    "print(f\"\\n색상 하나 선택: {random.choice(colors)}\")      # 예: green\n",
    "\n",
    "# 여러 개 선택 (중복 허용)\n",
    "print(f\"색상 3개 선택 (중복 가능): {random.choices(colors, k=3)}\") # 예: ['green', 'red', 'red']\n",
    "\n",
    "# 여러 개 선택 (중복 없음)\n",
    "print(f\"색상 3개 선택 (중복 없음): {random.sample(colors, 3)}\") # 예: ['blue', 'purple', 'green']\n",
    "\n",
    "# 리스트 섞기 (shuffle은 원본 리스트를 직접 변경)\n",
    "numbers = list(range(1, 11)) # [1, 2, ..., 10]\n",
    "print(f\"\\n원본 리스트: {numbers}\")\n",
    "random.shuffle(numbers)\n",
    "print(f\"섞인 리스트: {numbers}\") # 예: [7, 3, 10, 1, 5, 9, 8, 2, 4, 6]\n",
    "\n",
    "# 가중치 적용 선택\n",
    "fruits = ['apple', 'banana', 'orange']\n",
    "# banana가 선택될 확률이 apple의 3배, orange의 1.5배\n",
    "weights = [1, 3, 2]\n",
    "selected_fruits = random.choices(fruits, weights=weights, k=10)\n",
    "print(f\"\\n가중치 적용 선택 (10회): {selected_fruits}\")\n",
    "# 예: ['banana', 'orange', 'banana', 'orange', 'banana', 'apple', 'banana', 'orange', 'banana', 'banana']"
   ]
  }
 ],
 "metadata": {
  "kernelspec": {
   "display_name": "venv",
   "language": "python",
   "name": "python3"
  },
  "language_info": {
   "codemirror_mode": {
    "name": "ipython",
    "version": 3
   },
   "file_extension": ".py",
   "mimetype": "text/x-python",
   "name": "python",
   "nbconvert_exporter": "python",
   "pygments_lexer": "ipython3",
   "version": "3.12.3"
  }
 },
 "nbformat": 4,
 "nbformat_minor": 5
}
