{
 "cells": [
  {
   "cell_type": "code",
   "execution_count": 2,
   "id": "87d0795e",
   "metadata": {},
   "outputs": [
    {
     "name": "stdout",
     "output_type": "stream",
     "text": [
      "생성된 비밀번호 (16자): qZC6c@c*6Wt)!#7F\n",
      "3개의 6면체 주사위 결과: [4, 3, 4], 총합: 11\n",
      "몬테카를로 π 근사값: 3.141080\n"
     ]
    }
   ],
   "source": [
    "import random\n",
    "import string\n",
    "\n",
    "def generate_password(length=12) -> str:\n",
    "    \"\"\"영문 대소문자, 숫자, 특수문자를 포함하여 무작위 비밀번호를 생성합니다.\"\"\"\n",
    "    # 사용할 문자 집합 정의\n",
    "    characters = string.ascii_letters + string.digits + \"!@#$%^&*()\"\n",
    "    # characters = string.ascii_letters + string.digits # 숫자와 영문만 사용 시\n",
    "\n",
    "    # 최소한의 보안을 위해 각 문자 종류가 하나씩 포함되도록 보장 (선택 사항)\n",
    "    password_list = [\n",
    "        random.choice(string.ascii_lowercase),\n",
    "        random.choice(string.ascii_uppercase),\n",
    "        random.choice(string.digits),\n",
    "        random.choice(\"!@#$%^&*()\")\n",
    "    ]\n",
    "\n",
    "    # 나머지 길이를 무작위 문자로 채움\n",
    "    remaining_length = length - len(password_list)\n",
    "    if remaining_length > 0:\n",
    "        password_list.extend(random.choice(characters) for _ in range(remaining_length))\n",
    "\n",
    "    # 생성된 리스트를 무작위로 섞음\n",
    "    random.shuffle(password_list)\n",
    "\n",
    "    # 리스트를 문자열로 합쳐 반환\n",
    "    return \"\".join(password_list)\n",
    "\n",
    "def simulate_dice_roll(num_dice=2, num_sides=6) -> tuple:\n",
    "    \"\"\"지정된 개수와 면 수를 가진 주사위를 굴려 각 결과와 총합을 반환합니다.\"\"\"\n",
    "    if num_dice <= 0 or num_sides <= 0:\n",
    "        return [], 0\n",
    "    \n",
    "    # 각 주사위를 굴린 결과를 리스트로 저장\n",
    "    rolls = [random.randint(1, num_sides) for _ in range(num_dice)]\n",
    "    # 모든 주사위 결과의 합계 계산\n",
    "    total = sum(rolls)\n",
    "    return rolls, total\n",
    "\n",
    "def monte_carlo_pi(num_samples=100000000) -> float:\n",
    "    \"\"\"몬테카를로 시뮬레이션을 사용하여 π(파이)의 근사값을 계산합니다.\"\"\"\n",
    "    inside_circle = 0\n",
    "\n",
    "    for _ in range(num_samples):\n",
    "        # -1과 1 사이의 무작위 x, y 좌표 생성 (정사각형 영역)\n",
    "        x = random.uniform(-1, 1)\n",
    "        y = random.uniform(-1, 1)\n",
    "\n",
    "        # 원점(0,0)으로부터의 거리가 1 이하인지 확인 (원의 내부)\n",
    "        # x^2 + y^2 <= 1^2\n",
    "        if x**2 + y**2 <= 1:\n",
    "            inside_circle += 1\n",
    "\n",
    "    # π의 근사값 계산: (원 넓이 / 정사각형 넓이) = (π * r^2) / (2r)^2 = π / 4\n",
    "    pi_estimate = 4 * inside_circle / num_samples\n",
    "    return pi_estimate\n",
    "\n",
    "# 사용 예시\n",
    "print(f\"생성된 비밀번호 (16자): {generate_password(16)}\")\n",
    "\n",
    "dice_result, dice_sum = simulate_dice_roll(num_dice=3, num_sides=6)\n",
    "print(f\"3개의 6면체 주사위 결과: {dice_result}, 총합: {dice_sum}\")\n",
    "\n",
    "pi_approx = monte_carlo_pi(1000000) # 백만 번 시뮬레이션\n",
    "print(f\"몬테카를로 π 근사값: {pi_approx:.6f}\") # 소수점 6자리까지 출력\n"
   ]
  }
 ],
 "metadata": {
  "kernelspec": {
   "display_name": "venv",
   "language": "python",
   "name": "python3"
  },
  "language_info": {
   "codemirror_mode": {
    "name": "ipython",
    "version": 3
   },
   "file_extension": ".py",
   "mimetype": "text/x-python",
   "name": "python",
   "nbconvert_exporter": "python",
   "pygments_lexer": "ipython3",
   "version": "3.12.3"
  }
 },
 "nbformat": 4,
 "nbformat_minor": 5
}
