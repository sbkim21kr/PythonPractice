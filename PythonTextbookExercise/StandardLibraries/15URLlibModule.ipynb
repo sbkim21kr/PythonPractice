{
 "cells": [
  {
   "cell_type": "code",
   "execution_count": 1,
   "id": "9b637ffa",
   "metadata": {},
   "outputs": [
    {
     "name": "stdout",
     "output_type": "stream",
     "text": [
      "\n",
      "'https://www.python.org/static/community_logos/python-logo-master-v3-TM.png' 파일 다운로드 시도...\n",
      "파일 다운로드 완료: 'python_logo.png'\n",
      "다운로드 파일 크기: 83564 바이트\n",
      "\n",
      "URL 인코딩된 매개변수: query=%ED%8C%8C%EC%9D%B4%EC%8D%AC+%ED%91%9C%EC%A4%80+%EB%9D%BC%EC%9D%B4%EB%B8%8C%EB%9F%AC%EB%A6%AC&page=1&lang=ko\n",
      "완성된 API URL: https://search.example.com/search?query=%ED%8C%8C%EC%9D%B4%EC%8D%AC+%ED%91%9C%EC%A4%80+%EB%9D%BC%EC%9D%B4%EB%B8%8C%EB%9F%AC%EB%A6%AC&page=1&lang=ko\n",
      "다운로드된 파일 'python_logo.png' 삭제 완료.\n"
     ]
    }
   ],
   "source": [
    "import urllib.request\n",
    "import urllib.parse\n",
    "import json\n",
    "import os\n",
    "\n",
    "# To query means:\n",
    "\n",
    "#     🔎 To ask a question, especially to get information from a system, database, or person.\n",
    "\n",
    "\n",
    "\n",
    "# 웹 페이지 내용 가져오기\n",
    "# url = \"https://www.example.com\"\n",
    "# try:\n",
    "#     with urllib.request.urlopen(url) as response:\n",
    "#         content_bytes = response.read()\n",
    "#         # HTTP 헤더에서 인코딩 정보 확인 (charset) 또는 기본값 사용\n",
    "#         content_type = response.getheader('Content-Type', 'text/plain; charset=utf-8')\n",
    "#         charset = content_type.split('charset=')[-1] if 'charset=' in content_type else 'utf-8'\n",
    "#         content_string = content_bytes.decode(charset)\n",
    "#         print(f\"'{url}' 내용 (첫 200자):\")\n",
    "#         print(content_string[:200] + \"...\")\n",
    "# except Exception as e:\n",
    "#     print(f\"URL '{url}' 접근 중 오류 발생: {e}\")\n",
    "\n",
    "# 파일 다운로드\n",
    "image_url = \"https://www.python.org/static/community_logos/python-logo-master-v3-TM.png\"\n",
    "downloaded_filename = \"python_logo.png\"\n",
    "\n",
    "try:\n",
    "    print(f\"\\n'{image_url}' 파일 다운로드 시도...\")\n",
    "    # urlretrieve(다운로드할 URL, 저장할 파일명)\n",
    "    urllib.request.urlretrieve(image_url, downloaded_filename)\n",
    "    print(f\"파일 다운로드 완료: '{downloaded_filename}'\")\n",
    "    \n",
    "    # 다운로드한 파일 크기 확인\n",
    "    if os.path.exists(downloaded_filename):\n",
    "         print(f\"다운로드 파일 크기: {os.path.getsize(downloaded_filename)} 바이트\")\n",
    "\n",
    "except Exception as e:\n",
    "    print(f\"파일 다운로드 오류: {e}\")\n",
    "\n",
    "# URL 매개변수 인코딩\n",
    "params_dict = {'query': '파이썬 표준 라이브러리', 'page': 1, 'lang': 'ko'}\n",
    "encoded_params = urllib.parse.urlencode(params_dict)\n",
    "# 결과 예: query=%ED%8C%8C%EC%9D%B4%EC%8D%AC+%ED%91%9C%EC%A4%80+%EB%9D%BC%EC%9D%B4%EB%B8%8C%EB%9F%AC%EB%A6%AC&page=1&lang=ko\n",
    "print(f\"\\nURL 인코딩된 매개변수: {encoded_params}\")\n",
    "\n",
    "# 완성된 URL 예시\n",
    "api_url = f\"https://search.example.com/search?{encoded_params}\"\n",
    "print(f\"완성된 API URL: {api_url}\")\n",
    "\n",
    "# 정리: 다운로드한 파일 삭제\n",
    "if os.path.exists(downloaded_filename):\n",
    "    os.remove(downloaded_filename)\n",
    "    print(f\"다운로드된 파일 '{downloaded_filename}' 삭제 완료.\")\n"
   ]
  }
 ],
 "metadata": {
  "kernelspec": {
   "display_name": "venv",
   "language": "python",
   "name": "python3"
  },
  "language_info": {
   "codemirror_mode": {
    "name": "ipython",
    "version": 3
   },
   "file_extension": ".py",
   "mimetype": "text/x-python",
   "name": "python",
   "nbconvert_exporter": "python",
   "pygments_lexer": "ipython3",
   "version": "3.12.3"
  }
 },
 "nbformat": 4,
 "nbformat_minor": 5
}
