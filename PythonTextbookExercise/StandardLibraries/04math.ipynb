{
 "cells": [
  {
   "cell_type": "code",
   "execution_count": null,
   "id": "0836e076",
   "metadata": {},
   "outputs": [
    {
     "name": "stdout",
     "output_type": "stream",
     "text": [
      "파이 (π): 3.141592653589793\n",
      "자연로그의 밑 (e): 2.718281828459045\n",
      "2의 10승: 1024.0\n",
      "100의 제곱근: 10.0\n",
      "e의 자연로그 (ln(e)): 1.0\n",
      "100의 상용로그 (log10(100)): 2.0\n",
      "8의 밑2 로그 (log2(8)): 3.0\n",
      "\n",
      "45도 = 0.7854 라디안\n",
      "sin(45°): 0.7071\n",
      "cos(45°): 0.7071\n",
      "tan(45°): 1.0000\n",
      "\n",
      "올림 ceil(4.2): 5\n",
      "내림 floor(4.8): 4\n",
      "소수점 버림 trunc(4.8): 4\n",
      "절대값 fabs(-5.5): 5.5\n",
      "\n",
      "5! (팩토리얼): 120\n",
      "10개 중 3개 선택 (조합, 10C3): 120\n",
      "10개 중 3개 순서 고려 (순열, 10P3): 720\n"
     ]
    }
   ],
   "source": [
    "import math\n",
    "\n",
    "# 상수\n",
    "print(f\"파이 (π): {math.pi}\")\n",
    "print(f\"자연로그의 밑 (e): {math.e}\")\n",
    "\n",
    "# 거듭제곱, 제곱근, 로그\n",
    "print(f\"2의 10승: {math.pow(2, 10)}\")      # 1024.0\n",
    "print(f\"100의 제곱근: {math.sqrt(100)}\")    # 10.0\n",
    "print(f\"e의 자연로그 (ln(e)): {math.log(math.e)}\") # 1.0\n",
    "print(f\"100의 상용로그 (log10(100)): {math.log10(100)}\") # 2.0\n",
    "print(f\"8의 밑2 로그 (log2(8)): {math.log2(8)}\")     # 3.0\n",
    "\n",
    "# 삼각함수 (라디안 단위)\n",
    "angle_degrees = 45\n",
    "angle_radians = math.radians(angle_degrees) # 45도를 라디안으로 변환\n",
    "\n",
    "print(f\"\\n45도 = {angle_radians:.4f} 라디안\")\n",
    "print(f\"sin(45°): {math.sin(angle_radians):.4f}\")   # 약 0.7071 (sqrt(2)/2)\n",
    "print(f\"cos(45°): {math.cos(angle_radians):.4f}\")   # 약 0.7071 (sqrt(2)/2)\n",
    "# tan(45°) = 1.0 이지만 부동소수점 오차로 약간 다를 수 있음\n",
    "print(f\"tan(45°): {math.tan(angle_radians):.4f}\")\n",
    "\n",
    "# 올림, 내림, 절대값\n",
    "print(f\"\\n올림 ceil(4.2): {math.ceil(4.2)}\")     # 5\n",
    "print(f\"내림 floor(4.8): {math.floor(4.8)}\")   # 4\n",
    "print(f\"소수점 버림 trunc(4.8): {math.trunc(4.8)}\") # 4\n",
    "print(f\"절대값 fabs(-5.5): {math.fabs(-5.5)}\") # 5.5\n",
    "\n",
    "# 팩토리얼, 조합, 순열\n",
    "print(f\"\\n5! (팩토리얼): {math.factorial(5)}\")   # 120\n",
    "# Python 3.8 이상에서 사용 가능\n",
    "try:\n",
    "    print(f\"10개 중 3개 선택 (조합, 10C3): {math.comb(10, 3)}\") # 120\n",
    "    print(f\"10개 중 3개 순서 고려 (순열, 10P3): {math.perm(10, 3)}\") # 720\n",
    "except AttributeError:\n",
    "    print(\"math.comb, math.perm 함수는 Python 3.8 이상에서 지원됩니다.\")\n",
    "\n",
    "# gracefully handle older Python versions that don’t support math.comb() and math.perm().\n"
   ]
  }
 ],
 "metadata": {
  "kernelspec": {
   "display_name": "venv",
   "language": "python",
   "name": "python3"
  },
  "language_info": {
   "codemirror_mode": {
    "name": "ipython",
    "version": 3
   },
   "file_extension": ".py",
   "mimetype": "text/x-python",
   "name": "python",
   "nbconvert_exporter": "python",
   "pygments_lexer": "ipython3",
   "version": "3.12.3"
  }
 },
 "nbformat": 4,
 "nbformat_minor": 5
}
