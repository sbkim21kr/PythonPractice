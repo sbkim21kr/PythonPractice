{
 "cells": [
  {
   "cell_type": "code",
   "execution_count": null,
   "id": "4992a38f",
   "metadata": {},
   "outputs": [
    {
     "name": "stdout",
     "output_type": "stream",
     "text": [
      "현재 디렉토리의 .py 파일:\n",
      "  03PracticalTimeModules.py\n",
      "  01DatetimeModule.py\n",
      "  02TimeModule.py\n",
      "\n",
      "모든 하위 디렉토리의 .py 파일:\n",
      "  03PracticalTimeModules.py\n",
      "  01DatetimeModule.py\n",
      "  02TimeModule.py\n",
      "\n",
      "'test'가 포함된 파일:\n"
     ]
    }
   ],
   "source": [
    "import glob\n",
    "# The glob module lets you search for files using wildcard patterns — like *.py, *test*, or **/*.csv. It’s like using a smart filter to find exactly the files you need.\n",
    "import os\n",
    "\n",
    "# 현재 디렉토리에서 .py 파일 찾기\n",
    "print(\"현재 디렉토리의 .py 파일:\")\n",
    "# glob.glob(\"*.py\")는 현재 디렉토리만 검색\n",
    "for py_file in glob.glob(\"*.py\"):\n",
    "    print(f\"  {py_file}\")\n",
    "#     *.py matches all Python files in the current folder.\n",
    "\n",
    "# Doesn’t look inside subfolders.\n",
    "\n",
    "# Useful for listing scripts or modules in your project root.\n",
    "\n",
    "\n",
    "\n",
    "\n",
    "\n",
    "# 모든 하위 디렉토리에서 .py 파일 찾기 (recursive=True 사용)\n",
    "print(\"\\n모든 하위 디렉토리의 .py 파일:\")\n",
    "# glob.glob(\"**/*.py\", recursive=True)는 현재 디렉토리부터 모든 하위 디렉토리 검색\n",
    "for py_file in glob.glob(\"**/*.py\", recursive=True):\n",
    "    print(f\"  {py_file}\")\n",
    "#     **/*.py means “search all folders and subfolders for .py files.”\n",
    "\n",
    "# recursive=True enables deep search.\n",
    "\n",
    "# Perfect for scanning large projects or automation folders.\n",
    "\n",
    "\n",
    "\n",
    "\n",
    "# 특정 패턴 파일 찾기 (예: 'test'가 포함된 모든 파일)\n",
    "print(\"\\n'test'가 포함된 파일:\")\n",
    "for test_file in glob.glob(\"*test*\"): # 현재 디렉토리에서 *test* 패턴 검색\n",
    "    print(f\"  {test_file}\")\n",
    "# *test* matches any file with “test” in its name — like test_config.json, mytest.py, or latest_test_data.csv.\n",
    "\n",
    "# Useful for filtering logs, test cases, or diagnostic files."
   ]
  }
 ],
 "metadata": {
  "kernelspec": {
   "display_name": "venv",
   "language": "python",
   "name": "python3"
  },
  "language_info": {
   "codemirror_mode": {
    "name": "ipython",
    "version": 3
   },
   "file_extension": ".py",
   "mimetype": "text/x-python",
   "name": "python",
   "nbconvert_exporter": "python",
   "pygments_lexer": "ipython3",
   "version": "3.12.3"
  }
 },
 "nbformat": 4,
 "nbformat_minor": 5
}
