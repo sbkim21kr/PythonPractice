{
 "cells": [
  {
   "cell_type": "code",
   "execution_count": 6,
   "id": "c1dae32f",
   "metadata": {},
   "outputs": [
    {
     "name": "stdout",
     "output_type": "stream",
     "text": [
      "점수 목록: [85, 92, 78, 96, 88, 76, 89, 95, 82, 90]\n",
      "\n",
      "평균: 87.10\n",
      "중앙값: 88.5\n",
      "최빈값 (data_for_mode): 4\n",
      "\n",
      "분산: 46.10\n",
      "표준편차: 6.79\n",
      "\n",
      "1사분위수 (Q1): 76.2\n",
      "2사분위수 (Q2): 78.8\n",
      "3사분위수 (Q3): 82.9\n",
      "4사분위수 (Q4): 86.2\n",
      "5사분위수 (Q5): 88.5\n",
      "6사분위수 (Q6): 89.6\n",
      "7사분위수 (Q7): 91.4\n",
      "8사분위수 (Q8): 94.4\n",
      "9사분위수 (Q9): 95.9\n"
     ]
    }
   ],
   "source": [
    "import statistics\n",
    "\n",
    "# 샘플 데이터 (점수)\n",
    "scores = [85, 92, 78, 96, 88, 76, 89, 95, 82, 90]\n",
    "print(f\"점수 목록: {scores}\")\n",
    "\n",
    "# 중심 경향 측정\n",
    "mean_score = statistics.mean(scores)\n",
    "median_score = statistics.median(scores) # 데이터가 10개이므로, 5번째(88)와 6번째(89)의 평균\n",
    "# mode의 경우, 데이터에 중복이 없으면 에러 발생 가능. 예시를 위해 중복 포함\n",
    "data_for_mode = [1, 2, 2, 3, 4, 4, 4, 5]\n",
    "mode_result = statistics.mode(data_for_mode) # 4가 가장 많이 나옴\n",
    "\n",
    "print(f\"\\n평균: {mean_score:.2f}\")\n",
    "print(f\"중앙값: {median_score}\")\n",
    "print(f\"최빈값 (data_for_mode): {mode_result}\")\n",
    "\n",
    "# 산포도 측정\n",
    "variance = statistics.variance(scores) # 표본 분산\n",
    "std_dev = statistics.stdev(scores)     # 표본 표준편차\n",
    "\n",
    "print(f\"\\n분산: {variance:.2f}\")\n",
    "print(f\"표준편차: {std_dev:.2f}\")\n",
    "\n",
    "# 분위수 (Python 3.8+)\n",
    "try:\n",
    "    \n",
    "    quantiles_result = statistics.quantiles(scores, n=10)\n",
    "    q1 = quantiles_result[0] \n",
    "    q2 = quantiles_result[1] \n",
    "    q3 = quantiles_result[2] \n",
    "    q4 = quantiles_result[3] \n",
    "    q5 = quantiles_result[4] \n",
    "    q6 = quantiles_result[5] \n",
    "    q7 = quantiles_result[6]\n",
    "    q8 = quantiles_result[7]\n",
    "    q9 = quantiles_result[8]\n",
    "    \n",
    "\n",
    "    print(f\"\\n1사분위수 (Q1): {q1}\")\n",
    "    print(f\"2사분위수 (Q2): {q2}\")\n",
    "    print(f\"3사분위수 (Q3): {q3}\")\n",
    "    print(f\"4사분위수 (Q4): {q4}\")\n",
    "    print(f\"5사분위수 (Q5): {q5}\")\n",
    "    print(f\"6사분위수 (Q6): {q6}\")\n",
    "    print(f\"7사분위수 (Q7): {q7}\")\n",
    "    print(f\"8사분위수 (Q8): {q8}\")\n",
    "    print(f\"9사분위수 (Q9): {q9}\")\n",
    "\n",
    "except AttributeError:\n",
    "    print(\"\\nstatistics.quantiles 함수는 Python 3.8 이상에서 사용 가능합니다.\")\n",
    "except statistics.StatisticsError as e:\n",
    "    print(f\"\\n분위수 계산 오류: {e}\") # 데이터 부족 등의 이유\n"
   ]
  }
 ],
 "metadata": {
  "kernelspec": {
   "display_name": "venv",
   "language": "python",
   "name": "python3"
  },
  "language_info": {
   "codemirror_mode": {
    "name": "ipython",
    "version": 3
   },
   "file_extension": ".py",
   "mimetype": "text/x-python",
   "name": "python",
   "nbconvert_exporter": "python",
   "pygments_lexer": "ipython3",
   "version": "3.12.3"
  }
 },
 "nbformat": 4,
 "nbformat_minor": 5
}
