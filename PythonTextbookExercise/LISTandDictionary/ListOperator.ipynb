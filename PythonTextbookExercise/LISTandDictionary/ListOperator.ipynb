{
 "cells": [
  {
   "cell_type": "code",
   "execution_count": null,
   "id": "8de058fa",
   "metadata": {},
   "outputs": [
    {
     "name": "stdout",
     "output_type": "stream",
     "text": [
      "연결된 리스트: [1, 2, 3, 4, 5, 6]\n",
      "반복된 리스트: [0, 0, 0, 0, 0]\n",
      "패턴 반복: [1, 2, 1, 2, 1, 2]\n",
      "'사과'가 있나요? True\n",
      "'포도'가 없나요? True\n",
      "list_a == list_b: True\n",
      "list_a == list_c: False\n",
      "list_a < list_c: True\n"
     ]
    }
   ],
   "source": [
    "# 리스트 연결 (+)\n",
    "list1 = [1, 2, 3]\n",
    "list2 = [4, 5, 6]\n",
    "combined = list1 + list2\n",
    "print(f\"연결된 리스트: {combined}\")  # [1, 2, 3, 4, 5, 6]\n",
    "\n",
    "# 리스트 반복 (*)\n",
    "repeated = [0] * 5\n",
    "print(f\"반복된 리스트: {repeated}\")  # [0, 0, 0, 0, 0]\n",
    "\n",
    "pattern = [1, 2] * 3\n",
    "print(f\"패턴 반복: {pattern}\")  # [1, 2, 1, 2, 1, 2]\n",
    "\n",
    "# 멤버십 테스트 (in, not in)\n",
    "fruits = [\"사과\", \"바나나\", \"오렌지\"]\n",
    "print(f\"'사과'가 있나요? {'사과' in fruits}\")      # True\n",
    "print(f\"'포도'가 없나요? {'포도' not in fruits}\")  # True\n",
    "\n",
    "# 리스트 비교\n",
    "list_a = [1, 2, 3]\n",
    "list_b = [1, 2, 3]\n",
    "list_c = [1, 2, 4]\n",
    "\n",
    "print(f\"list_a == list_b: {list_a == list_b}\")  # True\n",
    "print(f\"list_a == list_c: {list_a == list_c}\")  # False\n",
    "print(f\"list_a < list_c: {list_a < list_c}\")    # True (사전식 비교)\n",
    "# Why Only One Comparison Matters\n",
    "# Python stops comparing as soon as it finds a difference. It doesn’t need all elements to be smaller — just the first unequal pair determines the outcome."
   ]
  }
 ],
 "metadata": {
  "kernelspec": {
   "display_name": "venv",
   "language": "python",
   "name": "python3"
  },
  "language_info": {
   "codemirror_mode": {
    "name": "ipython",
    "version": 3
   },
   "file_extension": ".py",
   "mimetype": "text/x-python",
   "name": "python",
   "nbconvert_exporter": "python",
   "pygments_lexer": "ipython3",
   "version": "3.12.3"
  }
 },
 "nbformat": 4,
 "nbformat_minor": 5
}
