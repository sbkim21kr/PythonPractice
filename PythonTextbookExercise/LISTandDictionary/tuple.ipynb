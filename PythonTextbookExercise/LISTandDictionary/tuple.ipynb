{
 "cells": [
  {
   "cell_type": "code",
   "execution_count": 1,
   "id": "9292f8bd",
   "metadata": {},
   "outputs": [
    {
     "name": "stdout",
     "output_type": "stream",
     "text": [
      "좌표: (10, 20)\n",
      "리스트에서 변환: (1, 2, 3, 4)\n",
      "문자열에서 변환: ('P', 'y', 't', 'h', 'o', 'n')\n",
      "x: 3, y: 4\n",
      "이름: 김철수, 나이: 25, 도시: 서울\n",
      "교환 전: a=10, b=20\n",
      "교환 후: a=20, b=10\n"
     ]
    }
   ],
   "source": [
    "# Tuple is an ordered list whose element is immutable\n",
    "empty_tuple = ()\n",
    "single_tuple = (1,)  # 요소 하나일 때는 쉼표 필요\n",
    "numbers_tuple = (1, 2, 3, 4, 5)\n",
    "mixed_tuple = (1, \"Hello\", 3.14, True)\n",
    "\n",
    "# 괄호 없이도 생성 가능\n",
    "coordinates = 10, 20\n",
    "print(f\"좌표: {coordinates}\")  # (10, 20)\n",
    "\n",
    "# tuple() 함수로 생성\n",
    "list_to_tuple = tuple([1, 2, 3, 4])\n",
    "string_to_tuple = tuple(\"Python\")\n",
    "print(f\"리스트에서 변환: {list_to_tuple}\")    # (1, 2, 3, 4)\n",
    "print(f\"문자열에서 변환: {string_to_tuple}\")  # ('P', 'y', 't', 'h', 'o', 'n')\n",
    "\n",
    "# 튜플 언패킹 (구조 분해 할당)\n",
    "point = (3, 4)\n",
    "x, y = point\n",
    "print(f\"x: {x}, y: {y}\")\n",
    "\n",
    "# 여러 값 동시 할당\n",
    "person = (\"김철수\", 25, \"서울\")\n",
    "name, age, city = person\n",
    "print(f\"이름: {name}, 나이: {age}, 도시: {city}\")\n",
    "\n",
    "# 변수 값 교환\n",
    "a, b = 10, 20\n",
    "print(f\"교환 전: a={a}, b={b}\")\n",
    "a, b = b, a\n",
    "print(f\"교환 후: a={a}, b={b}\")\n"
   ]
  },
  {
   "cell_type": "code",
   "execution_count": 3,
   "id": "c7f773fe",
   "metadata": {},
   "outputs": [
    {
     "name": "stdout",
     "output_type": "stream",
     "text": [
      "첫 번째: 1\n",
      "마지막: 9\n",
      "슬라이싱: (3, 4, 5)\n",
      "2의 개수: 3\n",
      "첫 번째 3의 인덱스: 2\n",
      "(1, 1) 위치: 1사분면\n",
      "최솟값: 1, 최댓값: 5, 평균: 3.0\n"
     ]
    }
   ],
   "source": [
    "# 튜플은 불변 (수정 불가)\n",
    "point = (1, 2)\n",
    "# point[0] = 3  # TypeError! 수정 불가\n",
    "\n",
    "# 하지만 인덱싱과 슬라이싱은 가능\n",
    "numbers = (1, 2, 3, 4, 5, 6, 7, 8, 9)\n",
    "print(f\"첫 번째: {numbers[0]}\")     # 1\n",
    "print(f\"마지막: {numbers[-1]}\")      # 9\n",
    "print(f\"슬라이싱: {numbers[2:5]}\")   # (3, 4, 5)\n",
    "\n",
    "# 튜플 메소드 (제한적)\n",
    "numbers = (1, 2, 3, 2, 4, 2, 5)\n",
    "print(f\"2의 개수: {numbers.count(2)}\")     # 3\n",
    "print(f\"첫 번째 3의 인덱스: {numbers.index(3)}\")  # 2\n",
    "\n",
    "# 튜플은 딕셔너리의 키로 사용 가능\n",
    "locations = {\n",
    "    (0, 0): \"원점\",\n",
    "    (1, 1): \"1사분면\",\n",
    "    (-1, -1): \"3사분면\"\n",
    "}\n",
    "print(f\"(1, 1) 위치: {locations[(1, 1)]}\")\n",
    "\n",
    "# This dictionary maps coordinate tuples to Korean labels:\n",
    "\n",
    "#     (0, 0) → \"원점\" (origin)\n",
    "\n",
    "#     (1, 1) → \"1사분면\" (1st quadrant)\n",
    "\n",
    "#     (-1, -1) → \"3사분면\" (3rd quadrant)\n",
    "\n",
    "# Tuples like (x, y) are immutable, so they’re safe to use as dictionary keys.\n",
    "# This retrieves the value associated with the key (1, 1) from the dictionary.\n",
    "\n",
    "\n",
    "# 함수에서 여러 값 반환시 튜플 활용\n",
    "def get_stats(numbers):\n",
    "    return min(numbers), max(numbers), sum(numbers) / len(numbers)\n",
    "\n",
    "data = [1, 2, 3, 4, 5]\n",
    "min_val, max_val, avg_val = get_stats(data)\n",
    "print(f\"최솟값: {min_val}, 최댓값: {max_val}, 평균: {avg_val}\")\n"
   ]
  },
  {
   "cell_type": "code",
   "execution_count": null,
   "id": "b44a4866",
   "metadata": {},
   "outputs": [
    {
     "name": "stdout",
     "output_type": "stream",
     "text": [
      "점 p1: (3, 4)\n",
      "점 p1: 3, 4\n",
      "사람: 김철수, 25세, 서울\n",
      "p1을 딕셔너리로: {'x': 3, 'y': 4}\n",
      "나이 변경: Person(name='김철수', age=26, city='서울')\n"
     ]
    }
   ],
   "source": [
    "from collections import namedtuple\n",
    "\n",
    "# namedtuple 정의\n",
    "# Creates a new type called Point with two fields: x and y.\n",
    "Point = namedtuple('Point', ['x', 'y'])\n",
    "Person = namedtuple('Person', ['name', 'age', 'city'])\n",
    "\n",
    "# namedtuple 생성\n",
    "p1 = Point(3, 4)\n",
    "p2 = Point(x=1, y=2)\n",
    "\n",
    "person1 = Person(\"김철수\", 25, \"서울\")\n",
    "\n",
    "# 접근 방법\n",
    "print(f\"점 p1: ({p1.x}, {p1.y})\")  # (3, 4)\n",
    "print(f\"점 p1: {p1[0]}, {p1[1]}\")   # 3, 4 (인덱스로도 접근 가능)\n",
    "\n",
    "print(f\"사람: {person1.name}, {person1.age}세, {person1.city}\")\n",
    "\n",
    "# namedtuple 메소드\n",
    "print(f\"p1을 딕셔너리로: {p1._asdict()}\")  # {'x': 3, 'y': 4}\n",
    "\n",
    "# _replace() 메소드 (새로운 객체 반환)\n",
    "person2 = person1._replace(age=26)\n",
    "print(f\"나이 변경: {person2}\")\n"
   ]
  }
 ],
 "metadata": {
  "kernelspec": {
   "display_name": "venv",
   "language": "python",
   "name": "python3"
  },
  "language_info": {
   "codemirror_mode": {
    "name": "ipython",
    "version": 3
   },
   "file_extension": ".py",
   "mimetype": "text/x-python",
   "name": "python",
   "nbconvert_exporter": "python",
   "pygments_lexer": "ipython3",
   "version": "3.12.3"
  }
 },
 "nbformat": 4,
 "nbformat_minor": 5
}
