{
 "cells": [
  {
   "cell_type": "code",
   "execution_count": 1,
   "id": "3c407ad7",
   "metadata": {},
   "outputs": [
    {
     "name": "stdout",
     "output_type": "stream",
     "text": [
      "제곱수: [1, 4, 9, 16, 25]\n",
      "대문자: ['PYTHON', 'JAVA', 'JAVASCRIPT']\n",
      "10% 할인가: [900.0, 1800.0, 2700.0, 3600.0]\n"
     ]
    }
   ],
   "source": [
    "# 기본 형태: [expression for item in iterable]\n",
    "\n",
    "# 제곱수 리스트 생성\n",
    "squares = [x**2 for x in range(1, 6)]\n",
    "print(f\"제곱수: {squares}\")  # [1, 4, 9, 16, 25]\n",
    "\n",
    "# 문자열 처리\n",
    "words = [\"python\", \"java\", \"javascript\"]\n",
    "upper_words = [word.upper() for word in words]\n",
    "print(f\"대문자: {upper_words}\")  # ['PYTHON', 'JAVA', 'JAVASCRIPT']\n",
    "\n",
    "# 숫자 처리\n",
    "prices = [1000, 2000, 3000, 4000]\n",
    "discounted = [price * 0.9 for price in prices]\n",
    "print(f\"10% 할인가: {discounted}\")  # [900.0, 1800.0, 2700.0, 3600.0]"
   ]
  },
  {
   "cell_type": "code",
   "execution_count": 2,
   "id": "81f86cc2",
   "metadata": {},
   "outputs": [
    {
     "name": "stdout",
     "output_type": "stream",
     "text": [
      "짝수의 제곱: [4, 16, 36, 64, 100]\n",
      "긴 단어 대문자: ['PYTHON', 'JAVASCRIPT']\n",
      "양수의 제곱: [1, 4, 9, 16]\n"
     ]
    }
   ],
   "source": [
    "# 조건 포함: [expression for item in iterable if condition]\n",
    "\n",
    "# 짝수만 제곱\n",
    "numbers = range(1, 11)\n",
    "even_squares = [x**2 for x in numbers if x % 2 == 0]\n",
    "print(f\"짝수의 제곱: {even_squares}\")  # [4, 16, 36, 64, 100]\n",
    "\n",
    "# 길이가 5 이상인 단어만 대문자로\n",
    "words = [\"cat\", \"python\", \"dog\", \"javascript\", \"go\"]\n",
    "long_upper = [word.upper() for word in words if len(word) >= 5]\n",
    "print(f\"긴 단어 대문자: {long_upper}\")  # ['PYTHON', 'JAVASCRIPT']\n",
    "\n",
    "# 양수만 선택하여 제곱\n",
    "mixed_numbers = [-2, -1, 0, 1, 2, 3, -5, 4]\n",
    "positive_squares = [x**2 for x in mixed_numbers if x > 0]\n",
    "print(f\"양수의 제곱: {positive_squares}\")  # [1, 4, 9, 16]\n"
   ]
  },
  {
   "cell_type": "code",
   "execution_count": 4,
   "id": "0c85d7b6",
   "metadata": {},
   "outputs": [
    {
     "name": "stdout",
     "output_type": "stream",
     "text": [
      "조건부 연산: [1, 4, 27, 16, 125]\n",
      "등급: ['A', 'B', 'C', 'D', 'F']\n",
      "음수 처리: [0, 0, 0, 2, 5, 0]\n"
     ]
    }
   ],
   "source": [
    "# 삼항 연산자 활용: [expression1 if condition else expression2 for item in iterable]\n",
    "\n",
    "# 짝수는 제곱, 홀수는 세제곱\n",
    "numbers = range(1, 6)\n",
    "result = [x**2 if x % 2 == 0 else x**3 for x in numbers]\n",
    "print(f\"조건부 연산: {result}\")  # [1, 4, 27, 16, 125]\n",
    "\n",
    "# 점수에 따른 등급\n",
    "scores = [95, 85, 75, 65, 55]\n",
    "grades = [\"A\" if score >= 90 else \"B\" if score >= 80 else \"C\" if score >= 70 else \"D\" if score >= 60 else \"F\" for score in scores]\n",
    "print(f\"등급: {grades}\")  # ['A', 'B', 'C', 'D', 'F']\n",
    "\n",
    "# 음수는 0으로, 양수는 그대로\n",
    "numbers = [-3, -1, 0, 2, 5, -2]\n",
    "processed = [0 if x < 0 else x for x in numbers]\n",
    "print(f\"음수 처리: {processed}\")  # [0, 0, 0, 2, 5, 0]\n"
   ]
  },
  {
   "cell_type": "code",
   "execution_count": null,
   "id": "7d49a3ab",
   "metadata": {},
   "outputs": [
    {
     "name": "stdout",
     "output_type": "stream",
     "text": [
      "two dimensional list:\n",
      "[0, 1, 2]\n",
      "[1, 2, 3]\n",
      "[2, 3, 4]\n",
      "\n",
      "구구단:\n",
      "['2×1=2', '2×2=4', '2×3=6']\n",
      "['3×1=3', '3×2=6', '3×3=9']\n",
      "['4×1=4', '4×2=8', '4×3=12']\n",
      "구구단 (Multiplication Table):\n",
      "\n",
      "2×1= 2  3×1= 3  4×1= 4  5×1= 5  6×1= 6  7×1= 7  8×1= 8  9×1= 9\n",
      "2×2= 4  3×2= 6  4×2= 8  5×2=10  6×2=12  7×2=14  8×2=16  9×2=18\n",
      "2×3= 6  3×3= 9  4×3=12  5×3=15  6×3=18  7×3=21  8×3=24  9×3=27\n",
      "2×4= 8  3×4=12  4×4=16  5×4=20  6×4=24  7×4=28  8×4=32  9×4=36\n",
      "2×5=10  3×5=15  4×5=20  5×5=25  6×5=30  7×5=35  8×5=40  9×5=45\n",
      "2×6=12  3×6=18  4×6=24  5×6=30  6×6=36  7×6=42  8×6=48  9×6=54\n",
      "2×7=14  3×7=21  4×7=28  5×7=35  6×7=42  7×7=49  8×7=56  9×7=63\n",
      "2×8=16  3×8=24  4×8=32  5×8=40  6×8=48  7×8=56  8×8=64  9×8=72\n",
      "2×9=18  3×9=27  4×9=36  5×9=45  6×9=54  7×9=63  8×9=72  9×9=81\n"
     ]
    }
   ],
   "source": [
    "matrix=[[i+j for j in range(3)] for i in range(3)]\n",
    "print(\"two dimensional list:\")\n",
    "for row in matrix:\n",
    "    print(row)\n",
    "# This builds a list of lists — a 3×3 matrix — where each element is the sum of its row index i and column index j.\n",
    "# 🔍 Step-by-Step Breakdown:\n",
    "# Outer Loop (for i in range(3)):\n",
    "\n",
    "#     Runs for i = 0, 1, 2\n",
    "\n",
    "#     Each i represents a row\n",
    "\n",
    "# Inner Loop (for j in range(3)):\n",
    "\n",
    "#     Runs for j = 0, 1, 2\n",
    "\n",
    "#     Each j represents a column\n",
    "\n",
    "#     Computes i + j for each cell\n",
    "multiplication_table = [[f\"{i}×{j}={i*j}\" for j in range(1, 4)] for i in range(2, 5)]\n",
    "print(\"\\n구구단:\")\n",
    "for row in multiplication_table:\n",
    "    print(row)\n",
    "\n",
    "# transpositioning\n",
    "multiplication_table = [[f\"{i}×{j}={i*j:2}\" for i in range(2, 10)] for j in range(1, 10)]\n",
    "\n",
    "print(\"구구단 (Multiplication Table):\\n\")\n",
    "for row in multiplication_table:\n",
    "    print(\"  \".join(row))\n"
   ]
  },
  {
   "cell_type": "code",
   "execution_count": 17,
   "id": "4e3b100a",
   "metadata": {},
   "outputs": [
    {
     "name": "stdout",
     "output_type": "stream",
     "text": [
      "평탄화: [1, 2, 3, 4, 5, 6, 7, 8, 9]\n"
     ]
    }
   ],
   "source": [
    "# 중첩 리스트 평탄화\n",
    "nested_list = [[1, 2, 3], [4, 5, 6], [7, 8, 9]]\n",
    "flattened = [num for row in nested_list for num in row]\n",
    "print(f\"평탄화: {flattened}\")  # [1, 2, 3, 4, 5, 6, 7, 8, 9]\n",
    "# for row in nested_list: loop through each sublist\n",
    "\n",
    "# for num in row: loop through each number in that sublist\n",
    "\n",
    "# [num ...]: collect each num into a new list\n",
    "\n",
    "# That outermost [ ... ] is what tells Python: “build a list out of these values.”"
   ]
  }
 ],
 "metadata": {
  "kernelspec": {
   "display_name": "venv",
   "language": "python",
   "name": "python3"
  },
  "language_info": {
   "codemirror_mode": {
    "name": "ipython",
    "version": 3
   },
   "file_extension": ".py",
   "mimetype": "text/x-python",
   "name": "python",
   "nbconvert_exporter": "python",
   "pygments_lexer": "ipython3",
   "version": "3.12.3"
  }
 },
 "nbformat": 4,
 "nbformat_minor": 5
}
