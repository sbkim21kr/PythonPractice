{
 "cells": [
  {
   "cell_type": "code",
   "execution_count": 1,
   "id": "3c407ad7",
   "metadata": {},
   "outputs": [
    {
     "name": "stdout",
     "output_type": "stream",
     "text": [
      "제곱수: [1, 4, 9, 16, 25]\n",
      "대문자: ['PYTHON', 'JAVA', 'JAVASCRIPT']\n",
      "10% 할인가: [900.0, 1800.0, 2700.0, 3600.0]\n"
     ]
    }
   ],
   "source": [
    "# 기본 형태: [expression for item in iterable]\n",
    "\n",
    "# 제곱수 리스트 생성\n",
    "squares = [x**2 for x in range(1, 6)]\n",
    "print(f\"제곱수: {squares}\")  # [1, 4, 9, 16, 25]\n",
    "\n",
    "# 문자열 처리\n",
    "words = [\"python\", \"java\", \"javascript\"]\n",
    "upper_words = [word.upper() for word in words]\n",
    "print(f\"대문자: {upper_words}\")  # ['PYTHON', 'JAVA', 'JAVASCRIPT']\n",
    "\n",
    "# 숫자 처리\n",
    "prices = [1000, 2000, 3000, 4000]\n",
    "discounted = [price * 0.9 for price in prices]\n",
    "print(f\"10% 할인가: {discounted}\")  # [900.0, 1800.0, 2700.0, 3600.0]"
   ]
  }
 ],
 "metadata": {
  "kernelspec": {
   "display_name": "venv",
   "language": "python",
   "name": "python3"
  },
  "language_info": {
   "codemirror_mode": {
    "name": "ipython",
    "version": 3
   },
   "file_extension": ".py",
   "mimetype": "text/x-python",
   "name": "python",
   "nbconvert_exporter": "python",
   "pygments_lexer": "ipython3",
   "version": "3.12.3"
  }
 },
 "nbformat": 4,
 "nbformat_minor": 5
}
