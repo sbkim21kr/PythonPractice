{
 "cells": [
  {
   "cell_type": "code",
   "execution_count": 1,
   "id": "05d9affe",
   "metadata": {},
   "outputs": [
    {
     "name": "stdout",
     "output_type": "stream",
     "text": [
      "리스트에서 집합: {1, 2, 3, 4}\n",
      "문자열에서 집합: {'l', 'e', 'o', 'h'}\n",
      "제곱수 집합: {1, 4, 9, 16, 25}\n",
      "중복 제거: [1, 2, 3, 4, 5]\n"
     ]
    }
   ],
   "source": [
    "# 집합 생성\n",
    "empty_set = set()  # 빈 집합 ({} 는 빈 딕셔너리)\n",
    "numbers = {1, 2, 3, 4, 5}\n",
    "fruits = {\"사과\", \"바나나\", \"오렌지\"}\n",
    "\n",
    "# set() 함수로 생성\n",
    "list_to_set = set([1, 2, 2, 3, 3, 4])  # 중복 제거됨\n",
    "string_to_set = set(\"hello\")  # {'h', 'e', 'l', 'o'} - 중복 'l' 제거\n",
    "print(f\"리스트에서 집합: {list_to_set}\")    # {1, 2, 3, 4}\n",
    "print(f\"문자열에서 집합: {string_to_set}\")  # {'h', 'e', 'l', 'o'}\n",
    "\n",
    "# 집합 컴프리헨션\n",
    "squares_set = {x**2 for x in range(1, 6)}\n",
    "print(f\"제곱수 집합: {squares_set}\")  # {1, 4, 9, 16, 25}\n",
    "\n",
    "# 중복 제거 활용\n",
    "duplicated_list = [1, 2, 2, 3, 3, 3, 4, 4, 5]\n",
    "unique_list = list(set(duplicated_list))\n",
    "print(f\"중복 제거: {unique_list}\")  # [1, 2, 3, 4, 5] (순서는 보장 안됨)\n"
   ]
  },
  {
   "cell_type": "code",
   "execution_count": 2,
   "id": "7f8050ea",
   "metadata": {},
   "outputs": [
    {
     "name": "stdout",
     "output_type": "stream",
     "text": [
      "합집합: {1, 2, 3, 4, 5, 6, 7, 8}\n",
      "교집합: {4, 5}\n",
      "차집합 A-B: {1, 2, 3}\n",
      "차집합 B-A: {8, 6, 7}\n",
      "대칭차집합: {1, 2, 3, 6, 7, 8}\n",
      "부분집합 여부: True\n",
      "상위집합 여부: True\n",
      "서로소 여부: True\n"
     ]
    }
   ],
   "source": [
    "set_a = {1, 2, 3, 4, 5}\n",
    "set_b = {4, 5, 6, 7, 8}\n",
    "\n",
    "# 합집합 (union)\n",
    "union1 = set_a | set_b\n",
    "union2 = set_a.union(set_b)\n",
    "print(f\"합집합: {union1}\")  # {1, 2, 3, 4, 5, 6, 7, 8}\n",
    "\n",
    "# 교집합 (intersection)\n",
    "intersection1 = set_a & set_b\n",
    "intersection2 = set_a.intersection(set_b)\n",
    "print(f\"교집합: {intersection1}\")  # {4, 5}\n",
    "\n",
    "# 차집합 (difference)\n",
    "difference1 = set_a - set_b\n",
    "difference2 = set_a.difference(set_b)\n",
    "print(f\"차집합 A-B: {difference1}\")  # {1, 2, 3}\n",
    "\n",
    "difference3 = set_b - set_a\n",
    "print(f\"차집합 B-A: {difference3}\")  # {6, 7, 8}\n",
    "\n",
    "# 대칭차집합 (symmetric difference)\n",
    "sym_diff1 = set_a ^ set_b\n",
    "sym_diff2 = set_a.symmetric_difference(set_b)\n",
    "print(f\"대칭차집합: {sym_diff1}\")  # {1, 2, 3, 6, 7, 8}\n",
    "\n",
    "# 부분집합과 상위집합 확인\n",
    "small_set = {2, 3}\n",
    "large_set = {1, 2, 3, 4, 5}\n",
    "\n",
    "print(f\"부분집합 여부: {small_set.issubset(large_set)}\")   # True\n",
    "print(f\"상위집합 여부: {large_set.issuperset(small_set)}\")  # True\n",
    "print(f\"서로소 여부: {set_a.isdisjoint({10, 11, 12})}\")    # True\n"
   ]
  },
  {
   "cell_type": "code",
   "execution_count": null,
   "id": "7e0ecfe7",
   "metadata": {},
   "outputs": [
    {
     "name": "stdout",
     "output_type": "stream",
     "text": [
      "add 후: {'바나나', '오렌지', '사과', '포도'}\n",
      "update 후: {'오렌지', '기', '포도', '망고', '딸', '키위', '바나나', '사과'}\n",
      "remove 후: {'오렌지', '기', '포도', '망고', '키위', '바나나', '사과'}\n",
      "discard 후: {'오렌지', '기', '포도', '망고', '바나나', '사과'}\n",
      "제거된 과일: 오렌지\n",
      "pop 후: {'기', '포도', '망고', '바나나', '사과'}\n",
      "clear 후: set()\n"
     ]
    }
   ],
   "source": [
    "fruits = {\"사과\", \"바나나\", \"오렌지\"}\n",
    "\n",
    "# add() - 요소 하나 추가\n",
    "fruits.add(\"포도\")\n",
    "print(f\"add 후: {fruits}\")\n",
    "\n",
    "# update() - 여러 요소 추가\n",
    "fruits.update([\"키위\", \"망고\"])\n",
    "fruits.update(\"딸기\")  # 문자열의 각 문자가 추가됨\n",
    "print(f\"update 후: {fruits}\")\n",
    "\n",
    "# remove() - 요소 제거 (없으면 KeyError)\n",
    "fruits.remove(\"딸\")\n",
    "print(f\"remove 후: {fruits}\")\n",
    "\n",
    "# discard() - 요소 제거 (없어도 에러 안남)\n",
    "fruits.discard(\"키위\")\n",
    "fruits.discard(\"없는과일\")  # 에러 안남\n",
    "print(f\"discard 후: {fruits}\")\n",
    "\n",
    "# pop() - 임의의 요소 제거하고 반환\n",
    "removed_fruit = fruits.pop()\n",
    "print(f\"제거된 과일: {removed_fruit}\")\n",
    "print(f\"pop 후: {fruits}\")\n",
    "# list.pop() removes the last item by default, not arbitrary.\n",
    "\n",
    "# You can also specify an index: my_list.pop(0) removes the first item.\n",
    "\n",
    "# set.pop() does remove an arbitrary element — because sets are unordered.\n",
    "\n",
    "# You don’t control which item gets removed.\n",
    "\n",
    "\n",
    "\n",
    "# clear() - 모든 요소 제거\n",
    "fruits_copy = fruits.copy()\n",
    "fruits_copy.clear()\n",
    "print(f\"clear 후: {fruits_copy}\")\n"
   ]
  }
 ],
 "metadata": {
  "kernelspec": {
   "display_name": "venv",
   "language": "python",
   "name": "python3"
  },
  "language_info": {
   "codemirror_mode": {
    "name": "ipython",
    "version": 3
   },
   "file_extension": ".py",
   "mimetype": "text/x-python",
   "name": "python",
   "nbconvert_exporter": "python",
   "pygments_lexer": "ipython3",
   "version": "3.12.3"
  }
 },
 "nbformat": 4,
 "nbformat_minor": 5
}
