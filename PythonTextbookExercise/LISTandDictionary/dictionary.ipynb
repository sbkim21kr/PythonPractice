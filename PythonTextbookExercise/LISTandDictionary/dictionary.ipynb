{
 "cells": [
  {
   "cell_type": "code",
   "execution_count": 5,
   "id": "b527c4a9",
   "metadata": {},
   "outputs": [
    {
     "name": "stdout",
     "output_type": "stream",
     "text": [
      "사람 정보: {'name': '김철수', 'age': 25, 'city': '서울'}\n",
      "dict() 생성: {'name': '이영희', 'age': 30, 'city': '부산'}\n",
      "페어로 생성: {'a': 1, 'b': 2, 'c': 3}\n",
      "제곱수 딕셔너리: {1: 1, 2: 4, 3: 9, 4: 16, 5: 25}\n",
      "단어 길이: {'python': 6, 'java': 4, 'javascript': 10, 'c++': 3}\n"
     ]
    }
   ],
   "source": [
    "# 딕셔너리 생성 방법들\n",
    "empty_dict = {}\n",
    "person = {\"name\": \"김철수\", \"age\": 25, \"city\": \"서울\"}\n",
    "numbers = {1: \"one\", 2: \"two\", 3: \"three\"}\n",
    "\n",
    "# dict() 함수로 생성\n",
    "person2 = dict(name=\"이영희\", age=30, city=\"부산\")\n",
    "pairs = dict([(\"a\", 1), (\"b\", 2), (\"c\", 3)])\n",
    "\n",
    "print(f\"사람 정보: {person}\")\n",
    "print(f\"dict() 생성: {person2}\")\n",
    "print(f\"페어로 생성: {pairs}\")\n",
    "\n",
    "# 딕셔너리 컴프리헨션\n",
    "squares_dict = {x: x**2 for x in range(1, 6)}\n",
    "print(f\"제곱수 딕셔너리: {squares_dict}\")  # {1: 1, 2: 4, 3: 9, 4: 16, 5: 25}\n",
    "\n",
    "# 조건부 딕셔너리 컴프리헨션\n",
    "words = [\"python\", \"java\", \"go\", \"javascript\", \"c++\"]\n",
    "word_lengths = {word: len(word) for word in words if len(word) > 2}\n",
    "print(f\"단어 길이: {word_lengths}\")\n",
    "# word: len(word) is the syntax for a dictionary entry:\n",
    "\n",
    "#     word → the key\n",
    "\n",
    "#     len(word) → the value\n",
    "\n",
    "\n",
    "# In Python, a comprehension is a compact syntax for building a new collection (like a list, set, or dictionary) by iterating over an existing one and optionally filtering or transforming its elements.\n",
    "\n",
    "# So a list comprehension is:\n",
    "\n",
    "#     A way to “comprehend” or construct a list from another iterable, using a single readable expression."
   ]
  },
  {
   "cell_type": "code",
   "execution_count": 9,
   "id": "3b7d4424",
   "metadata": {},
   "outputs": [
    {
     "name": "stdout",
     "output_type": "stream",
     "text": [
      "이름: 박민수\n",
      "나이: 20\n",
      "성별: None\n",
      "등급: A\n",
      "수정 후: {'name': '박민수', 'age': 21, 'grade': 'A', 'subjects': ['수학', '영어', '과학'], 'city': '대구'}\n",
      "업데이트 후: {'name': '박민수', 'age': 21, 'grade': 'A+', 'subjects': ['수학', '영어', '과학'], 'city': '대구', 'scholarship': True}\n",
      "추가 정보 후: {'name': '박민수', 'age': 21, 'grade': 'A+', 'subjects': ['수학', '영어', '과학'], 'city': '대구', 'scholarship': True, 'phone': '010-1234-5678', 'email': 'park@example.com'}\n"
     ]
    }
   ],
   "source": [
    "student = {\"name\": \"박민수\", \"age\": 20, \"grade\": \"A\", \"subjects\": [\"수학\", \"영어\", \"과학\"]}\n",
    "\n",
    "# 값 접근\n",
    "print(f\"이름: {student['name']}\")\n",
    "print(f\"나이: {student['age']}\")\n",
    "\n",
    "# get() 메소드 (키가 없어도 에러 안남)\n",
    "print(f\"성별: {student.get('gender')}\")  # 기본값 제공\n",
    "print(f\"등급: {student.get('grade')}\")  # None 반환 (키가 없으면)\n",
    "\n",
    "# 값 수정\n",
    "student[\"age\"] = 21\n",
    "student[\"city\"] = \"대구\"  # 새로운 키-값 추가\n",
    "print(f\"수정 후: {student}\")\n",
    "\n",
    "# 여러 값 동시 업데이트\n",
    "student.update({\"grade\": \"A+\", \"scholarship\": True})\n",
    "print(f\"업데이트 후: {student}\")\n",
    "\n",
    "# 딕셔너리로 업데이트\n",
    "additional_info = {\"phone\": \"010-1234-5678\", \"email\": \"park@example.com\"}\n",
    "student.update(additional_info)\n",
    "print(f\"추가 정보 후: {student}\")\n"
   ]
  },
  {
   "cell_type": "code",
   "execution_count": null,
   "id": "64d46a50",
   "metadata": {},
   "outputs": [
    {
     "name": "stdout",
     "output_type": "stream",
     "text": [
      "제거된 나이: 25\n",
      "pop 후: {'name': '김철수', 'city': '서울'}\n",
      "전화번호: 번호 없음\n",
      "마지막 항목: ('city', '서울')\n",
      "popitem 후: {'name': '김철수'}\n",
      "del 후: {'name': '김철수', 'age': 25, 'city': '서울'}\n",
      "clear 후: {}\n",
      "원본: {'a': [1, 2, 3, 4], 'b': [4, 5, 6]}\n",
      "복사본: {'a': [1, 2, 3, 4], 'b': [4, 5, 6]}\n",
      "깊은 복사 후 원본: {'a': [1, 2, 3, 4], 'b': [4, 5, 6]}\n",
      "깊은 복사본: {'a': [1, 2, 3, 4, 5], 'b': [4, 5, 6]}\n"
     ]
    }
   ],
   "source": [
    "student = {\"name\": \"김철수\", \"age\": 25, \"city\": \"서울\"}\n",
    "\n",
    "# pop() - 키를 제거하고 값 반환\n",
    "age = student.pop(\"age\")\n",
    "print(f\"제거된 나이: {age}\")  # 25\n",
    "print(f\"pop 후: {student}\")\n",
    "\n",
    "# pop()에 기본값 제공\n",
    "phone = student.pop(\"phone\", \"번호 없음\")\n",
    "print(f\"전화번호: {phone}\")  # 번호 없음\n",
    "\n",
    "# popitem() - 마지막 항목 제거하고 반환 (Python 3.7+에서는 LIFO)\n",
    "last_item = student.popitem()\n",
    "print(f\"마지막 항목: {last_item}\")\n",
    "print(f\"popitem 후: {student}\")\n",
    "\n",
    "# 다시 데이터 추가\n",
    "student.update({\"age\": 25, \"city\": \"서울\", \"grade\": \"A\"})\n",
    "\n",
    "# del 문으로 제거\n",
    "del student[\"grade\"]\n",
    "print(f\"del 후: {student}\")\n",
    "\n",
    "# clear() - 모든 항목 제거\n",
    "student_copy = student.copy()\n",
    "student_copy.clear()\n",
    "print(f\"clear 후: {student_copy}\")  # {}\n",
    "\n",
    "# copy() - 얕은 복사\n",
    "original = {\"a\": [1, 2, 3], \"b\": [4, 5, 6]}\n",
    "copied = original.copy()\n",
    "copied[\"a\"].append(4)  # 리스트는 공유되므로 원본도 변경됨\n",
    "print(f\"원본: {original}\")  # {'a': [1, 2, 3, 4], 'b': [4, 5, 6]}\n",
    "print(f\"복사본: {copied}\")  # {'a': [1, 2, 3, 4], 'b': [4, 5, 6]}\n",
    "\n",
    "# original.copy() creates a shallow copy of the dictionary.\n",
    "\n",
    "# That means: the dictionary structure is copied, but the values (lists) are not duplicated — they are shared references.\n",
    "\n",
    "# So both original[\"a\"] and copied[\"a\"] point to the same list in memory.\n",
    "\n",
    "\n",
    "\n",
    "# 깊은 복사가 필요한 경우\n",
    "import copy\n",
    "deep_copied = copy.deepcopy(original)\n",
    "deep_copied[\"a\"].append(5)\n",
    "print(f\"깊은 복사 후 원본: {original}\")     # 변경 없음\n",
    "print(f\"깊은 복사본: {deep_copied}\")       # 변경됨\n",
    "\n",
    "# This creates a new dictionary\n",
    "\n",
    "# And also new copies of the lists inside\n",
    "\n",
    "# So deep_copied[\"a\"] is independent from original[\"a\"]\n"
   ]
  },
  {
   "cell_type": "code",
   "execution_count": null,
   "id": "e68b0c13",
   "metadata": {},
   "outputs": [
    {
     "name": "stdout",
     "output_type": "stream",
     "text": [
      "setdefault 사용: {'name': '김철수', 'age': 25, 'subjects': ['수학', '영어']}\n",
      "기존 나이: 25\n",
      "defaultdict: {'fruits': ['사과', '바나나'], 'vegetables': ['당근']}\n",
      "문자 카운트: {'h': 1, 'e': 1, 'l': 3, 'o': 2, ' ': 1, 'w': 1, 'r': 1, 'd': 1}\n"
     ]
    }
   ],
   "source": [
    "# setdefault() - 키가 없으면 기본값으로 설정\n",
    "student = {\"name\": \"김철수\", \"age\": 25}\n",
    "\n",
    "# 키가 없으면 기본값 설정\n",
    "student.setdefault(\"subjects\", []).append(\"수학\")\n",
    "student.setdefault(\"subjects\", []).append(\"영어\")\n",
    "print(f\"setdefault 사용: {student}\")\n",
    "\n",
    "# 이미 키가 있으면 기존 값 반환\n",
    "# “If the key 'age' does not exist, set it to 30. If it already exists, just return its current value.”\n",
    "age = student.setdefault(\"age\", 30)  # 기존 값 25 반환\n",
    "print(f\"기존 나이: {age}\")\n",
    "\n",
    "# defaultdict 사용\n",
    "from collections import defaultdict\n",
    "\n",
    "# 리스트를 기본값으로 하는 defaultdict\n",
    "dd_list = defaultdict(list)\n",
    "dd_list[\"fruits\"].append(\"사과\")\n",
    "dd_list[\"fruits\"].append(\"바나나\")\n",
    "dd_list[\"vegetables\"].append(\"당근\")\n",
    "print(f\"defaultdict: {dict(dd_list)}\")\n",
    "\n",
    "# 정수를 기본값으로 하는 defaultdict (카운터 용도)\n",
    "dd_int = defaultdict(int)\n",
    "text = \"hello world\"\n",
    "for char in text:\n",
    "    dd_int[char] += 1\n",
    "print(f\"문자 카운트: {dict(dd_int)}\")\n"
   ]
  }
 ],
 "metadata": {
  "kernelspec": {
   "display_name": "venv",
   "language": "python",
   "name": "python3"
  },
  "language_info": {
   "codemirror_mode": {
    "name": "ipython",
    "version": 3
   },
   "file_extension": ".py",
   "mimetype": "text/x-python",
   "name": "python",
   "nbconvert_exporter": "python",
   "pygments_lexer": "ipython3",
   "version": "3.12.3"
  }
 },
 "nbformat": 4,
 "nbformat_minor": 5
}
