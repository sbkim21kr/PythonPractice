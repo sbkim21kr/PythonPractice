{
 "cells": [
  {
   "cell_type": "code",
   "execution_count": 1,
   "id": "8bb1533a",
   "metadata": {},
   "outputs": [
    {
     "name": "stdout",
     "output_type": "stream",
     "text": [
      "after appending: ['apple', 'banana', 'orange']\n",
      "after inserting: ['apple', 'strawberry', 'banana', 'orange']\n",
      "after extending: ['apple', 'strawberry', 'banana', 'orange', 'grape', 'kiwi']\n",
      "원본 numbers1: [1, 2, 3]\n",
      "+ 연산 결과: [1, 2, 3, 4, 5, 6]\n",
      "extend 후 numbers1: [1, 2, 3, 4, 5, 6]\n"
     ]
    }
   ],
   "source": [
    "fruits=['apple','banana']\n",
    "fruits.append(\"orange\")\n",
    "print(f\"after appending: {fruits}\")\n",
    "\n",
    "fruits.insert(1, \"strawberry\")\n",
    "print(f\"after inserting: {fruits}\")\n",
    "\n",
    "fruits.extend([\"grape\",\"kiwi\"])\n",
    "print(f\"after extending: {fruits}\")\n",
    "\n",
    "# 리스트 + 연산과 extend() 차이\n",
    "numbers1 = [1, 2, 3]\n",
    "numbers2 = [4, 5, 6]\n",
    "\n",
    "# + 연산: 새로운 리스트 생성\n",
    "result = numbers1 + numbers2\n",
    "print(f\"원본 numbers1: {numbers1}\")  # [1, 2, 3] (변경 없음)\n",
    "print(f\"+ 연산 결과: {result}\")      # [1, 2, 3, 4, 5, 6]\n",
    "\n",
    "# extend(): 기존 리스트 수정\n",
    "numbers1.extend(numbers2)\n",
    "print(f\"extend 후 numbers1: {numbers1}\")  # [1, 2, 3, 4, 5, 6]"
   ]
  },
  {
   "cell_type": "code",
   "execution_count": 2,
   "id": "57d62f81",
   "metadata": {},
   "outputs": [
    {
     "name": "stdout",
     "output_type": "stream",
     "text": [
      "remove 후: ['사과', '오렌지', '포도', '바나나', '키위']\n",
      "제거된 과일: 키위\n",
      "pop 후: ['사과', '오렌지', '포도', '바나나']\n",
      "제거된 과일: 오렌지\n",
      "pop(1) 후: ['사과', '포도', '바나나']\n",
      "del numbers[0] 후: [2, 3, 4, 5, 6, 7, 8, 9]\n",
      "del numbers[1:4] 후: [2, 6, 7, 8, 9]\n",
      "clear 후: []\n"
     ]
    }
   ],
   "source": [
    "fruits = [\"사과\", \"바나나\", \"오렌지\", \"포도\", \"바나나\", \"키위\"]\n",
    "\n",
    "# remove() - 첫 번째로 찾은 요소 제거\n",
    "fruits.remove(\"바나나\")  # 첫 번째 \"바나나\"만 제거\n",
    "print(f\"remove 후: {fruits}\")  # ['사과', '오렌지', '포도', '바나나', '키위']\n",
    "\n",
    "# pop() - 특정 인덱스의 요소 제거하고 반환\n",
    "last_fruit = fruits.pop()    # 마지막 요소 제거\n",
    "print(f\"제거된 과일: {last_fruit}\")  # 키위\n",
    "print(f\"pop 후: {fruits}\")          # ['사과', '오렌지', '포도', '바나나']\n",
    "\n",
    "second_fruit = fruits.pop(1)  # 인덱스 1의 요소 제거\n",
    "print(f\"제거된 과일: {second_fruit}\")  # 오렌지\n",
    "print(f\"pop(1) 후: {fruits}\")         # ['사과', '포도', '바나나']\n",
    "\n",
    "# del 문 - 인덱스나 슬라이스로 제거\n",
    "numbers = [1, 2, 3, 4, 5, 6, 7, 8, 9]\n",
    "del numbers[0]     # 첫 번째 요소 제거\n",
    "print(f\"del numbers[0] 후: {numbers}\")  # [2, 3, 4, 5, 6, 7, 8, 9]\n",
    "\n",
    "del numbers[1:4]   # 인덱스 1~3 제거\n",
    "print(f\"del numbers[1:4] 후: {numbers}\")  # [2, 6, 7, 8, 9]\n",
    "\n",
    "# clear() - 모든 요소 제거\n",
    "fruits.clear()\n",
    "print(f\"clear 후: {fruits}\")  # []\n"
   ]
  },
  {
   "cell_type": "code",
   "execution_count": 4,
   "id": "974971b8",
   "metadata": {},
   "outputs": [
    {
     "name": "stdout",
     "output_type": "stream",
     "text": [
      "4의 인덱스: 2\n",
      "첫 번째 1의 인덱스: 1\n",
      "인덱스 2부터 5의 인덱스: 4\n",
      "1의 개수: 2\n",
      "5의 개수: 2\n",
      "7의 개수: 0\n",
      "오름차순 정렬: [1, 1, 2, 3, 4, 5, 5, 6, 9]\n",
      "내림차순 정렬: [9, 6, 5, 5, 4, 3, 2, 1, 1]\n",
      "알파벳 순: ['c++', 'java', 'javascript', 'python']\n",
      "길이순: ['c++', 'java', 'python', 'javascript']\n",
      "길이순: ['javascript', 'python', 'java', 'c++']\n",
      "reverse 후: [5, 6, 2, 9, 5, 1, 4, 1, 3]\n",
      "원본: [3, 1, 4, 1, 5]\n",
      "sorted(): [1, 1, 3, 4, 5]\n",
      "sort() 후 원본: [1, 1, 3, 4, 5]\n"
     ]
    }
   ],
   "source": [
    "numbers = [3, 1, 4, 1, 5, 9, 2, 6, 5]\n",
    "\n",
    "# index() - 요소의 인덱스 찾기\n",
    "print(f\"4의 인덱스: {numbers.index(4)}\")  # 2\n",
    "print(f\"첫 번째 1의 인덱스: {numbers.index(1)}\")  # 1\n",
    "\n",
    "# 특정 범위에서 찾기\n",
    "print(f\"인덱스 2부터 5의 인덱스: {numbers.index(5, 2)}\")  # 4\n",
    "\n",
    "# count() - 요소 개수 세기\n",
    "print(f\"1의 개수: {numbers.count(1)}\")  # 2\n",
    "print(f\"5의 개수: {numbers.count(5)}\")  # 2\n",
    "print(f\"7의 개수: {numbers.count(7)}\")  # 0\n",
    "\n",
    "# sort() - 리스트를 제자리에서 정렬\n",
    "numbers_copy = numbers.copy()\n",
    "numbers_copy.sort()\n",
    "print(f\"오름차순 정렬: {numbers_copy}\")\n",
    "\n",
    "numbers_copy.sort(reverse=True)\n",
    "print(f\"내림차순 정렬: {numbers_copy}\")\n",
    "\n",
    "# 문자열 정렬\n",
    "words = [\"python\", \"java\", \"javascript\", \"c++\"]\n",
    "words.sort()\n",
    "print(f\"알파벳 순: {words}\")\n",
    "\n",
    "words.sort(key=len)  # 길이순 정렬\n",
    "print(f\"길이순: {words}\")\n",
    "\n",
    "words.sort(key=len, reverse=True)  # 길이순 정렬\n",
    "print(f\"길이순: {words}\")\n",
    "\n",
    "\n",
    "# reverse() - 리스트 뒤집기\n",
    "numbers.reverse()\n",
    "print(f\"reverse 후: {numbers}\")\n",
    "\n",
    "# sorted() vs sort() 차이\n",
    "original = [3, 1, 4, 1, 5]\n",
    "sorted_new = sorted(original)  # 새로운 리스트 반환\n",
    "print(f\"원본: {original}\")      # [3, 1, 4, 1, 5] (변경 없음)\n",
    "print(f\"sorted(): {sorted_new}\")  # [1, 1, 3, 4, 5]\n",
    "\n",
    "original.sort()  # 원본 리스트 수정\n",
    "print(f\"sort() 후 원본: {original}\")  # [1, 1, 3, 4, 5]\n"
   ]
  }
 ],
 "metadata": {
  "kernelspec": {
   "display_name": "venv",
   "language": "python",
   "name": "python3"
  },
  "language_info": {
   "codemirror_mode": {
    "name": "ipython",
    "version": 3
   },
   "file_extension": ".py",
   "mimetype": "text/x-python",
   "name": "python",
   "nbconvert_exporter": "python",
   "pygments_lexer": "ipython3",
   "version": "3.12.3"
  }
 },
 "nbformat": 4,
 "nbformat_minor": 5
}
