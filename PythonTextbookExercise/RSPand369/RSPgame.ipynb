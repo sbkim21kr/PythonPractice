{
 "cells": [
  {
   "cell_type": "code",
   "execution_count": 1,
   "id": "6cd45ede",
   "metadata": {},
   "outputs": [],
   "source": [
    "def ConvertRSPtoNUM(choice):\n",
    "    mapping = {'R':0, 'S':1, 'P':2}\n",
    "    choice=choice.upper()\n",
    "    if choice not in mapping:\n",
    "        raise ValueError(\"Invalid choice! must be 'R','S',or 'P'.\")\n",
    "    return mapping[choice]"
   ]
  },
  {
   "cell_type": "code",
   "execution_count": 2,
   "id": "1f8ebd11",
   "metadata": {},
   "outputs": [],
   "source": [
    "def ConvertNUMtoRSP(choice):\n",
    "    mapping = {0:'R', 1:'S', 2:'P'}\n",
    "    return mapping[choice]"
   ]
  },
  {
   "cell_type": "code",
   "execution_count": 3,
   "id": "9159c041",
   "metadata": {},
   "outputs": [],
   "source": [
    "def ResultofModThree(num1, num2):\n",
    "    return (num1-num2)%3"
   ]
  },
  {
   "cell_type": "code",
   "execution_count": 4,
   "id": "5cd0c398",
   "metadata": {},
   "outputs": [],
   "source": [
    "def DetermineTheWinner(number):\n",
    "    results={\n",
    "        0: \"Tie\",\n",
    "        1: \"Computer has won\",\n",
    "        2: \"You have won\",\n",
    "    }\n",
    "    return results[number]"
   ]
  },
  {
   "cell_type": "code",
   "execution_count": 5,
   "id": "05cdd21e",
   "metadata": {},
   "outputs": [
    {
     "name": "stdout",
     "output_type": "stream",
     "text": [
      "RSP game between YOU and COMPUTER\n",
      "Computer has won, the computer's choice was S, and your choice was P.\n",
      "You have won, the computer's choice was P, and your choice was S.\n",
      "Computer has won, the computer's choice was P, and your choice was R.\n",
      "Computer has won, the computer's choice was P, and your choice was R.\n",
      "Computer has won, the computer's choice was P, and your choice was R.\n",
      "Tie, the computer's choice was R, and your choice was R.\n"
     ]
    }
   ],
   "source": [
    "import random\n",
    "\n",
    "print(\"RSP game between YOU and COMPUTER\")\n",
    "\n",
    "while True:\n",
    "    ComputerChoice=random.randint(0,2)\n",
    "    \n",
    "    try:\n",
    "        UserChoice=input(\"input among R, S, or P, and press 'q' if you want to quit the game.\").upper()\n",
    "        if UserChoice.lower() == 'q':\n",
    "            break\n",
    "\n",
    "        userChoiceInNum=ConvertRSPtoNUM(UserChoice)\n",
    "        resultofmodcalculation=ResultofModThree(userChoiceInNum,ComputerChoice)\n",
    "        print(f\"{DetermineTheWinner(resultofmodcalculation)}, the computer's choice was {ConvertNUMtoRSP(ComputerChoice)}, and your choice was {UserChoice}.\")\n",
    "       \n",
    "    except Exception as e:\n",
    "        print(f\"Error occurred: {e}\")\n",
    "        print(\"please enter a valid input.\")"
   ]
  }
 ],
 "metadata": {
  "kernelspec": {
   "display_name": "venv",
   "language": "python",
   "name": "python3"
  },
  "language_info": {
   "codemirror_mode": {
    "name": "ipython",
    "version": 3
   },
   "file_extension": ".py",
   "mimetype": "text/x-python",
   "name": "python",
   "nbconvert_exporter": "python",
   "pygments_lexer": "ipython3",
   "version": "3.12.3"
  }
 },
 "nbformat": 4,
 "nbformat_minor": 5
}
