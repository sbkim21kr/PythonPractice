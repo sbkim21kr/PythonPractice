{
 "cells": [
  {
   "cell_type": "code",
   "execution_count": 1,
   "id": "0292f59c",
   "metadata": {},
   "outputs": [],
   "source": [
    "def NumofClaps(count):\n",
    "    numof369incount=0\n",
    "    StringCount=str(count)\n",
    "    numof369incount= sum(1 for letter in StringCount if letter in '369')\n",
    "    return numof369incount"
   ]
  },
  {
   "cell_type": "code",
   "execution_count": 2,
   "id": "bb43d27c",
   "metadata": {},
   "outputs": [],
   "source": [
    "def Answer(count): return str(count) if NumofClaps(count)==0 else 'c'*NumofClaps(count)"
   ]
  },
  {
   "cell_type": "code",
   "execution_count": 3,
   "id": "8b70c17a",
   "metadata": {},
   "outputs": [
    {
     "name": "stdout",
     "output_type": "stream",
     "text": [
      "369 game: YOU vs COMPUTER\n",
      "if the count contains 3,6, or 9, type as many c as the count has. Otherwise, enter the count itself.\n",
      "computer goes first\n",
      "the first count is 79\n",
      "computer: c\n",
      "you: 80\n",
      "computer: 81\n",
      "you: 82\n",
      "computer: c\n",
      "you: 84\n",
      "computer: 85\n",
      "you: c\n",
      "computer: 87\n",
      "you: 88\n",
      "computer: c\n",
      "you: c\n",
      "computer: c\n",
      "you: c\n",
      "computer: cc\n",
      "you: c\n",
      "computer: c\n",
      "you: cc\n",
      "computer: c\n",
      "you: c\n",
      "computer: cc\n",
      "you: 100\n",
      "computer: 101\n",
      "you: 102\n",
      "computer: c\n",
      "you: q\n"
     ]
    }
   ],
   "source": [
    "import random\n",
    "\n",
    "print(\"369 game: YOU vs COMPUTER\")\n",
    "print(\"if the count contains 3,6, or 9, type as many c as the count has. Otherwise, enter the count itself.\")\n",
    "print(\"computer goes first\")\n",
    "count=random.randint(1,100)\n",
    "print(f\"the first count is {count}\")\n",
    "while True:\n",
    "    print(f\"computer: {Answer(count)}\")\n",
    "    count+=1\n",
    "    UserInput=input(\"enter your response, and press 'q' if you want to quit the game: \")\n",
    "    print(f\"you: {UserInput}\")\n",
    "    if UserInput.lower() == 'q':\n",
    "        break\n",
    "    if UserInput!=Answer(count):\n",
    "        print(f\"Wrong! the correct response is {Answer(count)}\")\n",
    "        break\n",
    "    else:\n",
    "        count+=1"
   ]
  }
 ],
 "metadata": {
  "kernelspec": {
   "display_name": "venv",
   "language": "python",
   "name": "python3"
  },
  "language_info": {
   "codemirror_mode": {
    "name": "ipython",
    "version": 3
   },
   "file_extension": ".py",
   "mimetype": "text/x-python",
   "name": "python",
   "nbconvert_exporter": "python",
   "pygments_lexer": "ipython3",
   "version": "3.12.3"
  }
 },
 "nbformat": 4,
 "nbformat_minor": 5
}
