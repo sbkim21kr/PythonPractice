{
 "cells": [
  {
   "cell_type": "code",
   "execution_count": 20,
   "id": "7770a9be",
   "metadata": {},
   "outputs": [
    {
     "name": "stdout",
     "output_type": "stream",
     "text": [
      "--------------------------------------------------\n",
      "This part is the body of the report.\n",
      "--------------------------------------------------\n"
     ]
    }
   ],
   "source": [
    "# Decorator that adds lines before and after the function output\n",
    "def makeForm(func):\n",
    "    def drawLine():\n",
    "        print('-' * 50)\n",
    "        func()\n",
    "        print('-' * 50)\n",
    "    return drawLine\n",
    "\n",
    "# Apply the decorator using @ syntax\n",
    "@makeForm\n",
    "def report():\n",
    "    print(\"This part is the body of the report.\")\n",
    "\n",
    "# Call the decorated function\n",
    "report()\n"
   ]
  }
 ],
 "metadata": {
  "kernelspec": {
   "display_name": "venv",
   "language": "python",
   "name": "python3"
  },
  "language_info": {
   "codemirror_mode": {
    "name": "ipython",
    "version": 3
   },
   "file_extension": ".py",
   "mimetype": "text/x-python",
   "name": "python",
   "nbconvert_exporter": "python",
   "pygments_lexer": "ipython3",
   "version": "3.13.7"
  }
 },
 "nbformat": 4,
 "nbformat_minor": 5
}
