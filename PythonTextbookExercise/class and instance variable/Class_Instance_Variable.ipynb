{
 "cells": [
  {
   "cell_type": "code",
   "execution_count": null,
   "id": "890c627e",
   "metadata": {},
   "outputs": [],
   "source": [
    "class Wizard:\n",
    "# NumberofGenerated is a class variable\n",
    "    NumberofGenerated=0\n",
    "    \n",
    "    def __init__(self, name):\n",
    "        Wizard.NumberofGenerated += 1\n",
    "        self.name=name\n",
    "        self.level=1\n",
    "        self.hp=100\n",
    "        self.initAbility()\n",
    "\n",
    "    def initAbility(self):\n",
    "        self.strength = 1\n",
    "        self.offense_power = 1\n",
    "        self.intelligence = 10\n",
    "        self.mentality=10\n",
    "        self.agility=10"
   ]
  },
  {
   "cell_type": "code",
   "execution_count": 20,
   "id": "a1c53f4a",
   "metadata": {},
   "outputs": [
    {
     "name": "stdout",
     "output_type": "stream",
     "text": [
      "the number of wizards generated: 1\n",
      "name of the character: FirePlayer\n"
     ]
    }
   ],
   "source": [
    "player1 = Wizard('FirePlayer')\n",
    "print(f'the number of wizards generated: {player1.NumberofGenerated}\\nname of the character: {player1.name}')"
   ]
  },
  {
   "cell_type": "code",
   "execution_count": 21,
   "id": "4a2a990c",
   "metadata": {},
   "outputs": [
    {
     "name": "stdout",
     "output_type": "stream",
     "text": [
      "the number of wizards generated: 2\n",
      "name of the character: GodGo\n"
     ]
    }
   ],
   "source": [
    "player2=Wizard('GodGo')\n",
    "print(f'the number of wizards generated: {player2.NumberofGenerated}\\nname of the character: {player2.name}')"
   ]
  },
  {
   "cell_type": "code",
   "execution_count": 22,
   "id": "6e54d1e3",
   "metadata": {},
   "outputs": [
    {
     "name": "stdout",
     "output_type": "stream",
     "text": [
      "player1.level=2, player2.level=1\n"
     ]
    }
   ],
   "source": [
    "player1.level=2\n",
    "print(f'player1.level={player1.level}, player2.level={player2.level}')"
   ]
  },
  {
   "cell_type": "code",
   "execution_count": 26,
   "id": "f6f08fa5",
   "metadata": {},
   "outputs": [
    {
     "name": "stdout",
     "output_type": "stream",
     "text": [
      "6\n"
     ]
    }
   ],
   "source": [
    "player3=Wizard('StormBaby')\n",
    "print(player3.NumberofGenerated)"
   ]
  },
  {
   "cell_type": "code",
   "execution_count": null,
   "id": "d9aaf272",
   "metadata": {},
   "outputs": [],
   "source": [
    "# The __init__ method is the constructor — it runs automatically when you create a new instance of the class.\n",
    "\n",
    "# It takes one argument besides self: name.\n",
    "\n",
    "# When you write player1 = Wizard('FirePlayer'), you're passing the string 'FirePlayer' as the name argument.\n",
    "\n",
    "# Inside the constructor, self.name = name stores that value in the instance.\n",
    "\n",
    "# tell Class Variable from Instance Variable"
   ]
  },
  {
   "cell_type": "code",
   "execution_count": 1,
   "id": "cbddb309",
   "metadata": {},
   "outputs": [],
   "source": [
    "class Wizard:\n",
    "    generated=0\n",
    "\n",
    "    # instance method\n",
    "    def setFireballLevel(self, power=1):\n",
    "        self.setFireballLevel = power\n",
    "        print(f'set the level of fireball as {power}.')\n",
    "    # class method\n",
    "    @classmethod\n",
    "    def addGenerated(cls, count):\n",
    "        cls.generated += count\n",
    "        print(f'the total number of characters generated: {cls.generated}')\n",
    "    # static method\n",
    "    @staticmethod\n",
    "    def static1():\n",
    "        print(\"this is a statis method defined in Wizard class\")"
   ]
  },
  {
   "cell_type": "code",
   "execution_count": 2,
   "id": "34ef3ee0",
   "metadata": {},
   "outputs": [
    {
     "name": "stdout",
     "output_type": "stream",
     "text": [
      "set the level of fireball as 8.\n",
      "the total number of characters generated: 2\n",
      "this is a statis method defined in Wizard class\n"
     ]
    }
   ],
   "source": [
    "player1=Wizard()\n",
    "player1.setFireballLevel(8)\n",
    "Wizard.addGenerated(2)\n",
    "Wizard.static1()"
   ]
  },
  {
   "cell_type": "code",
   "execution_count": 10,
   "id": "cad68ac2",
   "metadata": {},
   "outputs": [
    {
     "name": "stdout",
     "output_type": "stream",
     "text": [
      "a wizard has been created\n"
     ]
    }
   ],
   "source": [
    "class Wizard2:\n",
    "    def __init__(self):\n",
    "        print(\"a wizard has been created\")\n",
    "        \n",
    "player1=Wizard2()"
   ]
  },
  {
   "cell_type": "code",
   "execution_count": 15,
   "id": "5b5ad5a0",
   "metadata": {},
   "outputs": [
    {
     "name": "stdout",
     "output_type": "stream",
     "text": [
      "a wizard whose name is <StormBaby> has been created.\n",
      "an object of Wizard has been deleted\n"
     ]
    }
   ],
   "source": [
    "class Wizard3:\n",
    "    def __init__(self,name=None):\n",
    "        self.name=name\n",
    "        print(f\"a wizard whose name is <{self.name}> has been created.\")\n",
    "    def __del__(self):\n",
    "        print(\"an object of Wizard has been deleted\")\n",
    "player4=Wizard3('StormBaby')\n",
    "del player4"
   ]
  }
 ],
 "metadata": {
  "kernelspec": {
   "display_name": "venv",
   "language": "python",
   "name": "python3"
  },
  "language_info": {
   "codemirror_mode": {
    "name": "ipython",
    "version": 3
   },
   "file_extension": ".py",
   "mimetype": "text/x-python",
   "name": "python",
   "nbconvert_exporter": "python",
   "pygments_lexer": "ipython3",
   "version": "3.13.7"
  }
 },
 "nbformat": 4,
 "nbformat_minor": 5
}
