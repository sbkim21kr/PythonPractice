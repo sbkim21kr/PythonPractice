{
 "cells": [
  {
   "cell_type": "code",
   "execution_count": 2,
   "id": "890c627e",
   "metadata": {},
   "outputs": [],
   "source": [
    "class Wizard:\n",
    "\n",
    "    NumberofGenerated=0\n",
    "    \n",
    "    def __init__(self, name):\n",
    "        Wizard.NumberofGenerated += 1\n",
    "        self.name=name\n",
    "        self.level=1\n",
    "        self.hp=100\n",
    "        self.initAbility()\n",
    "\n",
    "    def initAbility(self):\n",
    "        self.strength = 1\n",
    "        self.offense_power = 1\n",
    "        self.intelligence = 10\n",
    "        self.mentality=10\n",
    "        self.agility=10"
   ]
  },
  {
   "cell_type": "code",
   "execution_count": 3,
   "id": "a1c53f4a",
   "metadata": {},
   "outputs": [
    {
     "name": "stdout",
     "output_type": "stream",
     "text": [
      "the number of wizards generated: 1\n",
      "name of the character: FirePlayer\n"
     ]
    }
   ],
   "source": [
    "player1 = Wizard('FirePlayer')\n",
    "print(f'the number of wizards generated: {player1.NumberofGenerated}\\nname of the character: {player1.name}')"
   ]
  },
  {
   "cell_type": "code",
   "execution_count": null,
   "id": "d9aaf272",
   "metadata": {},
   "outputs": [],
   "source": [
    "# The __init__ method is the constructor — it runs automatically when you create a new instance of the class.\n",
    "\n",
    "# It takes one argument besides self: name.\n",
    "\n",
    "# When you write player1 = Wizard('FirePlayer'), you're passing the string 'FirePlayer' as the name argument.\n",
    "\n",
    "# Inside the constructor, self.name = name stores that value in the instance."
   ]
  }
 ],
 "metadata": {
  "kernelspec": {
   "display_name": "venv",
   "language": "python",
   "name": "python3"
  },
  "language_info": {
   "codemirror_mode": {
    "name": "ipython",
    "version": 3
   },
   "file_extension": ".py",
   "mimetype": "text/x-python",
   "name": "python",
   "nbconvert_exporter": "python",
   "pygments_lexer": "ipython3",
   "version": "3.13.7"
  }
 },
 "nbformat": 4,
 "nbformat_minor": 5
}
