{
 "cells": [
  {
   "cell_type": "code",
   "execution_count": 3,
   "id": "26dc4c8a",
   "metadata": {},
   "outputs": [],
   "source": [
    "import math_utils\n",
    "# importing module"
   ]
  },
  {
   "cell_type": "code",
   "execution_count": 4,
   "id": "25569b84",
   "metadata": {},
   "outputs": [
    {
     "name": "stdout",
     "output_type": "stream",
     "text": [
      "the area of a circle: 78.53975\n",
      "the result of calculation: 30\n"
     ]
    }
   ],
   "source": [
    "print(f\"the area of a circle: {math_utils.circle_area(5)}\")\n",
    "calc=math_utils.Calculator()\n",
    "print(f\"the result of calculation: {calc.add(10,20)}\")\n",
    "# math_utils.circle_area(5) calls the function circle_area from your module with radius = 5.\n",
    "# This creates an instance of the Calculator class from your module.\n",
    "# Now calc is an object that can use all the methods inside Calculator (add, subtract, multiply, divide).\n"
   ]
  },
  {
   "cell_type": "code",
   "execution_count": 5,
   "id": "ddf06116",
   "metadata": {},
   "outputs": [],
   "source": [
    "from math_utils import circle_area, Calculator\n",
    "# importing a certain function and a certain class"
   ]
  },
  {
   "cell_type": "code",
   "execution_count": 6,
   "id": "65b3861f",
   "metadata": {},
   "outputs": [
    {
     "name": "stdout",
     "output_type": "stream",
     "text": [
      "area of the circle: 28.27431\n",
      "the result of the calculation: 30\n"
     ]
    }
   ],
   "source": [
    "print(f\"area of the circle: {circle_area(3)}\")\n",
    "calc=Calculator()\n",
    "print(f\"the result of the calculation: {calc.multipy(5,6)}\")"
   ]
  },
  {
   "cell_type": "code",
   "execution_count": 7,
   "id": "fe459069",
   "metadata": {},
   "outputs": [
    {
     "name": "stdout",
     "output_type": "stream",
     "text": [
      "the area of a circle: 50.26544\n",
      "the area of a circle: 50.26544\n"
     ]
    }
   ],
   "source": [
    "# using alias\n",
    "import math_utils as mu\n",
    "from math_utils import circle_area as ca\n",
    "\n",
    "print(f\"the area of a circle: {mu.circle_area(4)}\")\n",
    "print(f\"the area of a circle: {ca(4)}\")"
   ]
  }
 ],
 "metadata": {
  "kernelspec": {
   "display_name": "venv",
   "language": "python",
   "name": "python3"
  },
  "language_info": {
   "codemirror_mode": {
    "name": "ipython",
    "version": 3
   },
   "file_extension": ".py",
   "mimetype": "text/x-python",
   "name": "python",
   "nbconvert_exporter": "python",
   "pygments_lexer": "ipython3",
   "version": "3.12.3"
  }
 },
 "nbformat": 4,
 "nbformat_minor": 5
}
