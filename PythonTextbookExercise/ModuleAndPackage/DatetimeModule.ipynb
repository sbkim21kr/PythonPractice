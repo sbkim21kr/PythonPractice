{
 "cells": [
  {
   "cell_type": "code",
   "execution_count": 7,
   "id": "2da9ac37",
   "metadata": {},
   "outputs": [
    {
     "name": "stdout",
     "output_type": "stream",
     "text": [
      "present time: 2025-09-28 17:07:54.874678\n",
      "display the date only: 2025-09-28\n",
      "display the time only: 17:07:54.874678\n"
     ]
    }
   ],
   "source": [
    "# using datetime module\n",
    "from datetime import datetime, date, timedelta\n",
    "\n",
    "now=datetime.now()\n",
    "# datetime.now() is a class method of the datetime class.\n",
    "# It returns an instance of datetime representing the current date and time.\n",
    "# So after this, now is a datetime object, e.g. 2025-09-27 14:23:45.123456.\n",
    "print(f\"present time: {now}\")\n",
    "print(f\"display the date only: {now.date()}\")\n",
    "print(f\"display the time only: {now.time()}\")\n",
    "# Both are instance methods of the datetime object."
   ]
  },
  {
   "cell_type": "code",
   "execution_count": 8,
   "id": "3229f9b3",
   "metadata": {},
   "outputs": [
    {
     "name": "stdout",
     "output_type": "stream",
     "text": [
      "today: 2025-09-28\n",
      "tomorrow: 2025-09-29\n",
      "a week later: 2025-10-05\n"
     ]
    }
   ],
   "source": [
    "today = date.today()\n",
    "tomorrow = today + timedelta(days=1)\n",
    "week_later = today + timedelta(weeks=1)\n",
    "\n",
    "print(f\"today: {today}\")\n",
    "print(f\"tomorrow: {tomorrow}\")\n",
    "print(f\"a week later: {week_later}\")"
   ]
  },
  {
   "cell_type": "code",
   "execution_count": 9,
   "id": "858cf2ea",
   "metadata": {},
   "outputs": [
    {
     "name": "stdout",
     "output_type": "stream",
     "text": [
      "섞인 카드: ['A', 'K', 'Q', 'J', '10']\n"
     ]
    }
   ],
   "source": [
    "import random\n",
    "# mixing the lists\n",
    "# The shuffle() method from Python’s random module randomly reorders the elements of a list in place — meaning it modifies the original list directly.\n",
    "cards = ['A', 'K', 'Q', 'J', '10']\n",
    "random.shuffle\n",
    "print(f\"섞인 카드: {cards}\")\n"
   ]
  },
  {
   "cell_type": "code",
   "execution_count": 10,
   "id": "301f4edb",
   "metadata": {},
   "outputs": [
    {
     "name": "stdout",
     "output_type": "stream",
     "text": [
      "the present directory: /home/sbkim21/Documents/PythonPractice/PythonTextbookExercise/ModuleAndPackage\n",
      "operating system: posix\n",
      "environment variable PATH: /home/sbkim21/Documents/PythonPractice/venv/bin:/usr/local/sbin:/usr/local/bin:/usr/sbin:/usr/bin:/s......\n"
     ]
    }
   ],
   "source": [
    "import os\n",
    "print(f\"the present directory: {os.getcwd()}\")\n",
    "print(f\"operating system: {os.name}\")\n",
    "# Purpose: Retrieves the system’s PATH environment variable (used to locate executables).\n",
    "# [:50]: Limits the output to the first 50 characters for readability.\n",
    "print(f\"environment variable PATH: {os.environ.get('PATH', 'not found')[:100]}......\")"
   ]
  }
 ],
 "metadata": {
  "kernelspec": {
   "display_name": "venv",
   "language": "python",
   "name": "python3"
  },
  "language_info": {
   "codemirror_mode": {
    "name": "ipython",
    "version": 3
   },
   "file_extension": ".py",
   "mimetype": "text/x-python",
   "name": "python",
   "nbconvert_exporter": "python",
   "pygments_lexer": "ipython3",
   "version": "3.12.3"
  }
 },
 "nbformat": 4,
 "nbformat_minor": 5
}
