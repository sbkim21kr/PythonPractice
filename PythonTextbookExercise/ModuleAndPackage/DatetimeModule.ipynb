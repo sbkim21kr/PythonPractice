{
 "cells": [
  {
   "cell_type": "code",
   "execution_count": 3,
   "id": "2da9ac37",
   "metadata": {},
   "outputs": [
    {
     "name": "stdout",
     "output_type": "stream",
     "text": [
      "present time: 2025-09-27 22:04:58.687848\n",
      "display the date only: 2025-09-27\n",
      "display the time only: 22:04:58.687848\n"
     ]
    }
   ],
   "source": [
    "# using datetime module\n",
    "from datetime import datetime, date, timedelta\n",
    "\n",
    "now=datetime.now()\n",
    "# datetime.now() is a class method of the datetime class.\n",
    "# It returns an instance of datetime representing the current date and time.\n",
    "# So after this, now is a datetime object, e.g. 2025-09-27 14:23:45.123456.\n",
    "print(f\"present time: {now}\")\n",
    "print(f\"display the date only: {now.date()}\")\n",
    "print(f\"display the time only: {now.time()}\")\n",
    "# Both are instance methods of the datetime object."
   ]
  },
  {
   "cell_type": "code",
   "execution_count": 4,
   "id": "3229f9b3",
   "metadata": {},
   "outputs": [
    {
     "name": "stdout",
     "output_type": "stream",
     "text": [
      "today: 2025-09-27\n",
      "tomorrow: 2025-09-28\n",
      "a week later: 2025-10-04\n"
     ]
    }
   ],
   "source": [
    "today = date.today()\n",
    "tomorrow = today + timedelta(days=1)\n",
    "week_later = today + timedelta(weeks=1)\n",
    "\n",
    "print(f\"today: {today}\")\n",
    "print(f\"tomorrow: {tomorrow}\")\n",
    "print(f\"a week later: {week_later}\")"
   ]
  }
 ],
 "metadata": {
  "kernelspec": {
   "display_name": "venv",
   "language": "python",
   "name": "python3"
  },
  "language_info": {
   "codemirror_mode": {
    "name": "ipython",
    "version": 3
   },
   "file_extension": ".py",
   "mimetype": "text/x-python",
   "name": "python",
   "nbconvert_exporter": "python",
   "pygments_lexer": "ipython3",
   "version": "3.12.3"
  }
 },
 "nbformat": 4,
 "nbformat_minor": 5
}
