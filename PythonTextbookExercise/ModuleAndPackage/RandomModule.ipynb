{
 "cells": [
  {
   "cell_type": "code",
   "execution_count": null,
   "id": "668e4d4b",
   "metadata": {},
   "outputs": [
    {
     "name": "stdout",
     "output_type": "stream",
     "text": [
      "random (float)number between o and 1: 0.6804658046057332\n",
      "random integer between 1 and 10: 1\n",
      "random choice from a list: orange\n"
     ]
    }
   ],
   "source": [
    "import random\n",
    "print(f\"random (float)number between 0 and 1: {random.random()}\")\n",
    "print(f\"random integer between 1 and 10: {random.randint(1,10)}\")\n",
    "print(f\"random choice from a list: {random.choice(['apple','banana','orange'])}\")\n",
    "\n",
    "# 👉 random.random()\n",
    "\n",
    "# Returns a float number between 0.0 (inclusive) and 1.0 (exclusive).\n",
    "\n",
    "# Distribution: uniform, meaning every number in that interval is equally likely.\n",
    "\n",
    "# Example outputs:\n",
    "\n",
    "# 0.134593823\n",
    "\n",
    "# 0.982712301\n",
    "\n",
    "# 0.000000001\n",
    "\n",
    "# So:\n",
    "\n",
    "# Lower bound: 0.0 can appear.\n",
    "\n",
    "# Upper bound: 1.0 will never appear."
   ]
  }
 ],
 "metadata": {
  "kernelspec": {
   "display_name": "venv",
   "language": "python",
   "name": "python3"
  },
  "language_info": {
   "codemirror_mode": {
    "name": "ipython",
    "version": 3
   },
   "file_extension": ".py",
   "mimetype": "text/x-python",
   "name": "python",
   "nbconvert_exporter": "python",
   "pygments_lexer": "ipython3",
   "version": "3.12.3"
  }
 },
 "nbformat": 4,
 "nbformat_minor": 5
}
