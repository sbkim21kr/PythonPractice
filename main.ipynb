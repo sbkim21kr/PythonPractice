{
 "cells": [
  {
   "cell_type": "code",
   "execution_count": 3,
   "id": "4ab88aad",
   "metadata": {},
   "outputs": [
    {
     "name": "stdout",
     "output_type": "stream",
     "text": [
      "the number 1 item of words: apple\n",
      "the number 2 item of words: banana\n",
      "the number 3 item of words: citrus\n",
      "the number 4 item of words: desk\n",
      "the number 5 item of words: elephant\n",
      "the number 6 item of words: fire\n"
     ]
    }
   ],
   "source": [
    "# practicing enumerate() method\n",
    "words=['apple','banana','citrus','desk','elephant','fire']\n",
    "\n",
    "for i,word in enumerate(words):\n",
    "    print(f\"the number {i+1} item of words: {word}\")\n",
    "# enumerate() return a specail type of object, which is iterator"
   ]
  },
  {
   "cell_type": "code",
   "execution_count": 2,
   "id": "21d32516",
   "metadata": {},
   "outputs": [
    {
     "name": "stdout",
     "output_type": "stream",
     "text": [
      "[(4, 'spring'), (5, 'summer'), (6, 'autumn'), (7, 'winter')]\n"
     ]
    }
   ],
   "source": [
    "# list() is used to turn the one-time-use enumerate conveyor belt into a static list \n",
    "\n",
    "seasons=['spring','summer','autumn','winter']\n",
    "print(list(enumerate(seasons, start=4)))"
   ]
  },
  {
   "cell_type": "code",
   "execution_count": 4,
   "id": "fb01ef39",
   "metadata": {},
   "outputs": [
    {
     "name": "stdout",
     "output_type": "stream",
     "text": [
      "the number 1 letter of elephant is: T\n",
      "the number 2 letter of elephant is: h\n",
      "the number 3 letter of elephant is: e\n",
      "the number 4 letter of elephant is: _\n",
      "the number 5 letter of elephant is: U\n",
      "the number 6 letter of elephant is: n\n",
      "the number 7 letter of elephant is: i\n",
      "the number 8 letter of elephant is: v\n",
      "the number 9 letter of elephant is: e\n",
      "the number 10 letter of elephant is: r\n",
      "the number 11 letter of elephant is: s\n",
      "the number 12 letter of elephant is: i\n",
      "the number 13 letter of elephant is: t\n",
      "the number 14 letter of elephant is: y\n",
      "the number 15 letter of elephant is: _\n",
      "the number 16 letter of elephant is: o\n",
      "the number 17 letter of elephant is: f\n",
      "the number 18 letter of elephant is: _\n",
      "the number 19 letter of elephant is: C\n",
      "the number 20 letter of elephant is: a\n",
      "the number 21 letter of elephant is: l\n",
      "the number 22 letter of elephant is: i\n",
      "the number 23 letter of elephant is: f\n",
      "the number 24 letter of elephant is: o\n",
      "the number 25 letter of elephant is: r\n",
      "the number 26 letter of elephant is: n\n",
      "the number 27 letter of elephant is: i\n",
      "the number 28 letter of elephant is: a\n",
      "the number 29 letter of elephant is: _\n",
      "the number 30 letter of elephant is: a\n",
      "the number 31 letter of elephant is: t\n",
      "the number 32 letter of elephant is: _\n",
      "the number 33 letter of elephant is: B\n",
      "the number 34 letter of elephant is: e\n",
      "the number 35 letter of elephant is: r\n",
      "the number 36 letter of elephant is: k\n",
      "the number 37 letter of elephant is: e\n",
      "the number 38 letter of elephant is: l\n",
      "the number 39 letter of elephant is: e\n",
      "the number 40 letter of elephant is: y\n"
     ]
    }
   ],
   "source": [
    "# practicing enumerate() method\n",
    "stringA=\"The_University_of_California_at_Berkeley\"\n",
    "\n",
    "for i,letter in enumerate(stringA):\n",
    "    print(f\"the number {i+1} letter of elephant is: {letter}\")\n",
    "# enumerate() return a specail type of object, which is iterator"
   ]
  },
  {
   "cell_type": "code",
   "execution_count": null,
   "id": "d852eb37",
   "metadata": {},
   "outputs": [],
   "source": []
  }
 ],
 "metadata": {
  "kernelspec": {
   "display_name": "venv",
   "language": "python",
   "name": "python3"
  },
  "language_info": {
   "codemirror_mode": {
    "name": "ipython",
    "version": 3
   },
   "file_extension": ".py",
   "mimetype": "text/x-python",
   "name": "python",
   "nbconvert_exporter": "python",
   "pygments_lexer": "ipython3",
   "version": "3.13.7"
  }
 },
 "nbformat": 4,
 "nbformat_minor": 5
}
