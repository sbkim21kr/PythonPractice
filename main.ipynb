{
 "cells": [
  {
   "cell_type": "code",
   "execution_count": 10,
   "id": "4ab88aad",
   "metadata": {},
   "outputs": [
    {
     "name": "stdout",
     "output_type": "stream",
     "text": [
      "the number 1 item of words: apple\n",
      "the number 2 item of words: banana\n",
      "the number 3 item of words: citrus\n",
      "the number 4 item of words: desk\n",
      "the number 5 item of words: elephant\n",
      "the number 6 item of words: fire\n"
     ]
    }
   ],
   "source": [
    "# practicing enumerate() method\n",
    "words=['apple','banana','citrus','desk','elephant','fire']\n",
    "\n",
    "for i,word in enumerate(words):\n",
    "    print(f\"the number {i+1} item of words: {word}\")\n",
    "# enumerate() return a specail type of object, which is iterator"
   ]
  },
  {
   "cell_type": "code",
   "execution_count": 8,
   "id": "21d32516",
   "metadata": {},
   "outputs": [
    {
     "name": "stdout",
     "output_type": "stream",
     "text": [
      "[(4, 'spring'), (5, 'summer'), (6, 'autumn'), (7, 'winter')]\n"
     ]
    }
   ],
   "source": [
    "# list() is used to turn the one-time-use enumerate conveyor belt into a static list \n",
    "\n",
    "seasons=['spring','summer','autumn','winter']\n",
    "print(list(enumerate(seasons, start=4)))"
   ]
  },
  {
   "cell_type": "code",
   "execution_count": null,
   "id": "fb01ef39",
   "metadata": {},
   "outputs": [
    {
     "ename": "",
     "evalue": "",
     "output_type": "error",
     "traceback": [
      "\u001b[1;31mRunning cells with 'venv (Python 3.13.7)' requires the ipykernel package.\n",
      "\u001b[1;31mInstall 'ipykernel' into the Python environment. \n",
      "\u001b[1;31mCommand: '\"d:/00My Documents/Python/PythonPractice/venv/Scripts/python.exe\" -m pip install ipykernel -U --force-reinstall'"
     ]
    }
   ],
   "source": [
    "# practicing enumerate() method\n",
    "stringA=\"The_University_of_California_at_Berkeley\"\n",
    "\n",
    "for i,letter in enumerate(stringA):\n",
    "    print(f\"the number {i+1} letter of elephant is: {letter}\")\n",
    "# enumerate() return a specail type of object, which is iterator"
   ]
  }
 ],
 "metadata": {
  "kernelspec": {
   "display_name": "venv",
   "language": "python",
   "name": "python3"
  },
  "language_info": {
   "codemirror_mode": {
    "name": "ipython",
    "version": 3
   },
   "file_extension": ".py",
   "mimetype": "text/x-python",
   "name": "python",
   "nbconvert_exporter": "python",
   "pygments_lexer": "ipython3",
   "version": "3.13.7"
  }
 },
 "nbformat": 4,
 "nbformat_minor": 5
}
