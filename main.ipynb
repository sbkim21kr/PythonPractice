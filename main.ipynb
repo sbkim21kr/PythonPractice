{
 "cells": [
  {
   "cell_type": "code",
   "execution_count": 9,
   "id": "4ab88aad",
   "metadata": {},
   "outputs": [
    {
     "name": "stdout",
     "output_type": "stream",
     "text": [
      "the number 1 item of words: apple\n",
      "the number 2 item of words: banana\n",
      "the number 3 item of words: citrus\n",
      "the number 4 item of words: desk\n",
      "the number 5 item of words: elephant\n",
      "the number 6 item of words: fire\n"
     ]
    }
   ],
   "source": [
    "# practicing enumerate() method\n",
    "words=['apple','banana','citrus','desk','elephant','fire']\n",
    "\n",
    "for i,word in enumerate(words):\n",
    "    print(f\"the number {i+1} item of words: {word}\")\n",
    "# enumerate() return a specail type of object, which is iterator"
   ]
  },
  {
   "cell_type": "code",
   "execution_count": 11,
   "id": "21d32516",
   "metadata": {},
   "outputs": [
    {
     "name": "stdout",
     "output_type": "stream",
     "text": [
      "[(2, 'spring'), (3, 'summer'), (4, 'autumn'), (5, 'winter')]\n"
     ]
    }
   ],
   "source": [
    "# list() is used to turn the one-time-use enumerate conveyor belt into a static list \n",
    "\n",
    "seasons=['spring','summer','autumn','winter']\n",
    "print(list(enumerate(seasons, start=2)))"
   ]
  },
  {
   "cell_type": "code",
   "execution_count": 13,
   "id": "fb01ef39",
   "metadata": {},
   "outputs": [
    {
     "name": "stdout",
     "output_type": "stream",
     "text": [
      "the number 1 letter of elephant is: N\n",
      "the number 2 letter of elephant is: e\n",
      "the number 3 letter of elephant is: w\n",
      "the number 4 letter of elephant is:  \n",
      "the number 5 letter of elephant is: Y\n",
      "the number 6 letter of elephant is: o\n",
      "the number 7 letter of elephant is: r\n",
      "the number 8 letter of elephant is: k\n",
      "the number 9 letter of elephant is:  \n",
      "the number 10 letter of elephant is: U\n",
      "the number 11 letter of elephant is: n\n",
      "the number 12 letter of elephant is: i\n",
      "the number 13 letter of elephant is: v\n",
      "the number 14 letter of elephant is: e\n",
      "the number 15 letter of elephant is: r\n",
      "the number 16 letter of elephant is: s\n",
      "the number 17 letter of elephant is: i\n",
      "the number 18 letter of elephant is: t\n",
      "the number 19 letter of elephant is: y\n"
     ]
    }
   ],
   "source": [
    "# practicing enumerate() method\n",
    "stringA=\"New York University\"\n",
    "\n",
    "for i,letter in enumerate(stringA):\n",
    "    print(f\"the number {i+1} letter of elephant is: {letter}\")\n",
    "# enumerate() return a specail type of object, which is iterator"
   ]
  },
  {
   "cell_type": "code",
   "execution_count": null,
   "id": "d852eb37",
   "metadata": {},
   "outputs": [],
   "source": []
  }
 ],
 "metadata": {
  "kernelspec": {
   "display_name": "venv",
   "language": "python",
   "name": "python3"
  },
  "language_info": {
   "codemirror_mode": {
    "name": "ipython",
    "version": 3
   },
   "file_extension": ".py",
   "mimetype": "text/x-python",
   "name": "python",
   "nbconvert_exporter": "python",
   "pygments_lexer": "ipython3",
   "version": "3.13.7"
  }
 },
 "nbformat": 4,
 "nbformat_minor": 5
}
