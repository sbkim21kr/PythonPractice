{
 "cells": [
  {
   "cell_type": "code",
   "execution_count": 1,
   "id": "0292f59c",
   "metadata": {},
   "outputs": [],
   "source": [
    "# count the number of 3 6 9 in a given string\n",
    "def CountClap1(countString):\n",
    "    NumberofClap=0\n",
    "    for _, letter in enumerate(countString):\n",
    "        if letter in ['3','6','9']:\n",
    "            NumberofClap+=1\n",
    "    return NumberofClap"
   ]
  },
  {
   "cell_type": "code",
   "execution_count": 2,
   "id": "c8ae4456",
   "metadata": {},
   "outputs": [],
   "source": [
    "def CountClap2(countString):\n",
    "    return sum(1 for letter in countString if letter in '369')"
   ]
  },
  {
   "cell_type": "code",
   "execution_count": null,
   "id": "b6d0862c",
   "metadata": {},
   "outputs": [
    {
     "name": "stdout",
     "output_type": "stream",
     "text": [
      "the number of claps required for the string '93335' is: 4\n"
     ]
    }
   ],
   "source": [
    "print(f\"the number of claps required for the string '96543' is: {CountClap1('96543')}\")"
   ]
  }
 ],
 "metadata": {
  "kernelspec": {
   "display_name": "venv",
   "language": "python",
   "name": "python3"
  },
  "language_info": {
   "codemirror_mode": {
    "name": "ipython",
    "version": 3
   },
   "file_extension": ".py",
   "mimetype": "text/x-python",
   "name": "python",
   "nbconvert_exporter": "python",
   "pygments_lexer": "ipython3",
   "version": "3.13.7"
  }
 },
 "nbformat": 4,
 "nbformat_minor": 5
}
