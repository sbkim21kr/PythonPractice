{
 "cells": [
  {
   "cell_type": "code",
   "execution_count": 1,
   "id": "7c9424aa",
   "metadata": {},
   "outputs": [],
   "source": [
    "def setLevel(character:str, level:int) -> dict[str,int]:\n",
    "    return {character:level}"
   ]
  },
  {
   "cell_type": "code",
   "execution_count": 2,
   "id": "3e847fc2",
   "metadata": {},
   "outputs": [],
   "source": [
    "def setLevel2(character:str, level:int) -> None:\n",
    "    global greats\n",
    "    greats[character] = level\n",
    "    return"
   ]
  },
  {
   "cell_type": "code",
   "execution_count": 3,
   "id": "b69590b9",
   "metadata": {},
   "outputs": [
    {
     "name": "stdout",
     "output_type": "stream",
     "text": [
      "{'Eric': 10, 'Tom': 15, 'Jim': 26}\n"
     ]
    }
   ],
   "source": [
    "greats={'Eric':10,'Tom':15,'Jim':10}\n",
    "setLevel2('Jim',26)\n",
    "print(greats)"
   ]
  }
 ],
 "metadata": {
  "kernelspec": {
   "display_name": "venv",
   "language": "python",
   "name": "python3"
  },
  "language_info": {
   "codemirror_mode": {
    "name": "ipython",
    "version": 3
   },
   "file_extension": ".py",
   "mimetype": "text/x-python",
   "name": "python",
   "nbconvert_exporter": "python",
   "pygments_lexer": "ipython3",
   "version": "3.13.7"
  }
 },
 "nbformat": 4,
 "nbformat_minor": 5
}
