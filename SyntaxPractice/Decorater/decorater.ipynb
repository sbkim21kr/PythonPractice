{
 "cells": [
  {
   "cell_type": "code",
   "execution_count": 5,
   "id": "3cf3ef07",
   "metadata": {},
   "outputs": [],
   "source": [
    "def report():\n",
    "    print(\"this part is the body of the report.\")"
   ]
  },
  {
   "cell_type": "code",
   "execution_count": 3,
   "id": "de5f4ff3",
   "metadata": {},
   "outputs": [],
   "source": [
    "def makeNumber():\n",
    "    for i in range(3):\n",
    "        print(i)"
   ]
  },
  {
   "cell_type": "code",
   "execution_count": 6,
   "id": "6522534a",
   "metadata": {},
   "outputs": [
    {
     "name": "stdout",
     "output_type": "stream",
     "text": [
      "this part is the body of the report.\n"
     ]
    }
   ],
   "source": [
    "report()"
   ]
  },
  {
   "cell_type": "code",
   "execution_count": 7,
   "id": "601f84c4",
   "metadata": {},
   "outputs": [
    {
     "name": "stdout",
     "output_type": "stream",
     "text": [
      "0\n",
      "1\n",
      "2\n"
     ]
    }
   ],
   "source": [
    "makeNumber()"
   ]
  },
  {
   "cell_type": "code",
   "execution_count": 8,
   "id": "605bc448",
   "metadata": {},
   "outputs": [],
   "source": [
    "def report1():\n",
    "    print('-'*50)\n",
    "    print(\"this part is the body of the report.\")\n",
    "    print('-'*50)\n",
    "    return\n",
    "\n",
    "def makeNumber1():\n",
    "    print('-'*50)\n",
    "    for i in range(3):\n",
    "        print(i)\n",
    "    print('-'*50)\n",
    "    return"
   ]
  },
  {
   "cell_type": "code",
   "execution_count": 9,
   "id": "a48e3e28",
   "metadata": {},
   "outputs": [],
   "source": [
    "def makeForm(func):\n",
    "    def drawLine():\n",
    "        print('-'*50)\n",
    "        func()\n",
    "        print('-'*50)\n",
    "    return drawLine"
   ]
  },
  {
   "cell_type": "code",
   "execution_count": 10,
   "id": "4e983390",
   "metadata": {},
   "outputs": [
    {
     "name": "stdout",
     "output_type": "stream",
     "text": [
      "--------------------------------------------------\n",
      "this part is the body of the report.\n",
      "--------------------------------------------------\n"
     ]
    }
   ],
   "source": [
    "report_new=makeForm(report)\n",
    "report_new()"
   ]
  },
  {
   "cell_type": "code",
   "execution_count": 11,
   "id": "3616b83c",
   "metadata": {},
   "outputs": [],
   "source": [
    "def drawLine():\n",
    "    print('-'*50)\n",
    "    report()\n",
    "    print('-'*50)"
   ]
  },
  {
   "cell_type": "code",
   "execution_count": 12,
   "id": "c70f2e3c",
   "metadata": {},
   "outputs": [
    {
     "name": "stdout",
     "output_type": "stream",
     "text": [
      "--------------------------------------------------\n",
      "0\n",
      "1\n",
      "2\n",
      "--------------------------------------------------\n"
     ]
    }
   ],
   "source": [
    "makeNumber_new=makeForm(makeNumber)\n",
    "makeNumber_new()"
   ]
  }
 ],
 "metadata": {
  "kernelspec": {
   "display_name": "venv",
   "language": "python",
   "name": "python3"
  },
  "language_info": {
   "codemirror_mode": {
    "name": "ipython",
    "version": 3
   },
   "file_extension": ".py",
   "mimetype": "text/x-python",
   "name": "python",
   "nbconvert_exporter": "python",
   "pygments_lexer": "ipython3",
   "version": "3.13.7"
  }
 },
 "nbformat": 4,
 "nbformat_minor": 5
}
